{
 "cells": [
  {
   "cell_type": "code",
   "execution_count": 2,
   "metadata": {
    "executionInfo": {
     "elapsed": 554,
     "status": "ok",
     "timestamp": 1604788414905,
     "user": {
      "displayName": "Jesús Caballero Medrano",
      "photoUrl": "https://lh3.googleusercontent.com/a-/AOh14GgLwxzqHHwii9Oj16H9ZGHE_-QU1ZdrtVqAlqB2Wg=s64",
      "userId": "13015949963564954961"
     },
     "user_tz": 360
    },
    "id": "Po40wnm61qbL"
   },
   "outputs": [],
   "source": [
    "# !pip install kneed"
   ]
  },
  {
   "cell_type": "code",
   "execution_count": 3,
   "metadata": {
    "executionInfo": {
     "elapsed": 860,
     "status": "ok",
     "timestamp": 1604788415218,
     "user": {
      "displayName": "Jesús Caballero Medrano",
      "photoUrl": "https://lh3.googleusercontent.com/a-/AOh14GgLwxzqHHwii9Oj16H9ZGHE_-QU1ZdrtVqAlqB2Wg=s64",
      "userId": "13015949963564954961"
     },
     "user_tz": 360
    },
    "id": "7fSVcyP51qbU"
   },
   "outputs": [],
   "source": [
    "import joblib\n",
    "import matplotlib.pyplot as plt\n",
    "import numpy as np\n",
    "import pandas as pd\n",
    "import psycopg2\n",
    "import spotipy\n",
    "\n",
    "from kneed import KneeLocator\n",
    "from spotipy.oauth2 import SpotifyClientCredentials\n",
    "from sklearn.decomposition import PCA\n",
    "from sklearn.preprocessing import LabelEncoder, StandardScaler\n",
    "from sklearn.cluster import KMeans"
   ]
  },
  {
   "cell_type": "code",
   "execution_count": 4,
   "metadata": {},
   "outputs": [],
   "source": []
  },
  {
   "cell_type": "code",
   "execution_count": 5,
   "metadata": {},
   "outputs": [],
   "source": [
    "client_credentials_manager = SpotifyClientCredentials(client_id=spotify_client_id, client_secret=spotify_client_secret)\n",
    "sp = spotipy.Spotify(client_credentials_manager=client_credentials_manager)"
   ]
  },
  {
   "cell_type": "code",
   "execution_count": 6,
   "metadata": {
    "colab": {
     "base_uri": "https://localhost:8080/",
     "height": 436
    },
    "executionInfo": {
     "elapsed": 1295,
     "status": "ok",
     "timestamp": 1604788428011,
     "user": {
      "displayName": "Jesús Caballero Medrano",
      "photoUrl": "https://lh3.googleusercontent.com/a-/AOh14GgLwxzqHHwii9Oj16H9ZGHE_-QU1ZdrtVqAlqB2Wg=s64",
      "userId": "13015949963564954961"
     },
     "user_tz": 360
    },
    "id": "PsPqEXF41qbb",
    "outputId": "d21a65ec-ff36-4990-a60e-74ea652ca59e"
   },
   "outputs": [
    {
     "name": "stdout",
     "output_type": "stream",
     "text": [
      "(169909, 19)\n"
     ]
    },
    {
     "data": {
      "text/html": [
       "<div>\n",
       "<style scoped>\n",
       "    .dataframe tbody tr th:only-of-type {\n",
       "        vertical-align: middle;\n",
       "    }\n",
       "\n",
       "    .dataframe tbody tr th {\n",
       "        vertical-align: top;\n",
       "    }\n",
       "\n",
       "    .dataframe thead th {\n",
       "        text-align: right;\n",
       "    }\n",
       "</style>\n",
       "<table border=\"1\" class=\"dataframe\">\n",
       "  <thead>\n",
       "    <tr style=\"text-align: right;\">\n",
       "      <th></th>\n",
       "      <th>song_id</th>\n",
       "      <th>song_name</th>\n",
       "      <th>artists</th>\n",
       "      <th>popularity</th>\n",
       "      <th>explicit</th>\n",
       "      <th>danceability</th>\n",
       "      <th>energy</th>\n",
       "      <th>song_key</th>\n",
       "      <th>loudness</th>\n",
       "      <th>song_mode</th>\n",
       "      <th>speechiness</th>\n",
       "      <th>acousticness</th>\n",
       "      <th>instrumentalness</th>\n",
       "      <th>liveness</th>\n",
       "      <th>valence</th>\n",
       "      <th>tempo</th>\n",
       "      <th>duration_ms</th>\n",
       "      <th>release_date</th>\n",
       "      <th>year</th>\n",
       "    </tr>\n",
       "  </thead>\n",
       "  <tbody>\n",
       "    <tr>\n",
       "      <th>0</th>\n",
       "      <td>6KbQ3uYMLKb5jDxLF7wYDD</td>\n",
       "      <td>Singende Bataillone 1. Teil</td>\n",
       "      <td>['Carl Woitschach']</td>\n",
       "      <td>0</td>\n",
       "      <td>0</td>\n",
       "      <td>0.708</td>\n",
       "      <td>0.1950</td>\n",
       "      <td>10</td>\n",
       "      <td>-12.428</td>\n",
       "      <td>1</td>\n",
       "      <td>0.0506</td>\n",
       "      <td>0.995</td>\n",
       "      <td>0.563</td>\n",
       "      <td>0.1510</td>\n",
       "      <td>0.7790</td>\n",
       "      <td>118.469</td>\n",
       "      <td>158648</td>\n",
       "      <td>1928</td>\n",
       "      <td>1928</td>\n",
       "    </tr>\n",
       "    <tr>\n",
       "      <th>1</th>\n",
       "      <td>6KuQTIu1KoTTkLXKrwlLPV</td>\n",
       "      <td>Fantasiestücke, Op. 111: Più tosto lento</td>\n",
       "      <td>['Robert Schumann', 'Vladimir Horowitz']</td>\n",
       "      <td>0</td>\n",
       "      <td>0</td>\n",
       "      <td>0.379</td>\n",
       "      <td>0.0135</td>\n",
       "      <td>8</td>\n",
       "      <td>-28.454</td>\n",
       "      <td>1</td>\n",
       "      <td>0.0462</td>\n",
       "      <td>0.994</td>\n",
       "      <td>0.901</td>\n",
       "      <td>0.0763</td>\n",
       "      <td>0.0767</td>\n",
       "      <td>83.972</td>\n",
       "      <td>282133</td>\n",
       "      <td>1928</td>\n",
       "      <td>1928</td>\n",
       "    </tr>\n",
       "    <tr>\n",
       "      <th>2</th>\n",
       "      <td>6L63VW0PibdM1HDSBoqnoM</td>\n",
       "      <td>Chapter 1.18 - Zamek kaniowski</td>\n",
       "      <td>['Seweryn Goszczyński']</td>\n",
       "      <td>0</td>\n",
       "      <td>0</td>\n",
       "      <td>0.749</td>\n",
       "      <td>0.2200</td>\n",
       "      <td>5</td>\n",
       "      <td>-19.924</td>\n",
       "      <td>0</td>\n",
       "      <td>0.9290</td>\n",
       "      <td>0.604</td>\n",
       "      <td>0.000</td>\n",
       "      <td>0.1190</td>\n",
       "      <td>0.8800</td>\n",
       "      <td>107.177</td>\n",
       "      <td>104300</td>\n",
       "      <td>1928</td>\n",
       "      <td>1928</td>\n",
       "    </tr>\n",
       "    <tr>\n",
       "      <th>3</th>\n",
       "      <td>6M94FkXd15sOAOQYRnWPN8</td>\n",
       "      <td>Bebamos Juntos - Instrumental (Remasterizado)</td>\n",
       "      <td>['Francisco Canaro']</td>\n",
       "      <td>0</td>\n",
       "      <td>0</td>\n",
       "      <td>0.781</td>\n",
       "      <td>0.1300</td>\n",
       "      <td>1</td>\n",
       "      <td>-14.734</td>\n",
       "      <td>0</td>\n",
       "      <td>0.0926</td>\n",
       "      <td>0.995</td>\n",
       "      <td>0.887</td>\n",
       "      <td>0.1110</td>\n",
       "      <td>0.7200</td>\n",
       "      <td>108.003</td>\n",
       "      <td>180760</td>\n",
       "      <td>9/25/1928</td>\n",
       "      <td>1928</td>\n",
       "    </tr>\n",
       "    <tr>\n",
       "      <th>4</th>\n",
       "      <td>6N6tiFZ9vLTSOIxkj8qKrd</td>\n",
       "      <td>Polonaise-Fantaisie in A-Flat Major, Op. 61</td>\n",
       "      <td>['Frédéric Chopin', 'Vladimir Horowitz']</td>\n",
       "      <td>1</td>\n",
       "      <td>0</td>\n",
       "      <td>0.210</td>\n",
       "      <td>0.2040</td>\n",
       "      <td>11</td>\n",
       "      <td>-16.829</td>\n",
       "      <td>1</td>\n",
       "      <td>0.0424</td>\n",
       "      <td>0.990</td>\n",
       "      <td>0.908</td>\n",
       "      <td>0.0980</td>\n",
       "      <td>0.0693</td>\n",
       "      <td>62.149</td>\n",
       "      <td>687733</td>\n",
       "      <td>1928</td>\n",
       "      <td>1928</td>\n",
       "    </tr>\n",
       "  </tbody>\n",
       "</table>\n",
       "</div>"
      ],
      "text/plain": [
       "                  song_id                                      song_name  \\\n",
       "0  6KbQ3uYMLKb5jDxLF7wYDD                    Singende Bataillone 1. Teil   \n",
       "1  6KuQTIu1KoTTkLXKrwlLPV       Fantasiestücke, Op. 111: Più tosto lento   \n",
       "2  6L63VW0PibdM1HDSBoqnoM                 Chapter 1.18 - Zamek kaniowski   \n",
       "3  6M94FkXd15sOAOQYRnWPN8  Bebamos Juntos - Instrumental (Remasterizado)   \n",
       "4  6N6tiFZ9vLTSOIxkj8qKrd    Polonaise-Fantaisie in A-Flat Major, Op. 61   \n",
       "\n",
       "                                    artists  popularity  explicit  \\\n",
       "0                       ['Carl Woitschach']           0         0   \n",
       "1  ['Robert Schumann', 'Vladimir Horowitz']           0         0   \n",
       "2                   ['Seweryn Goszczyński']           0         0   \n",
       "3                      ['Francisco Canaro']           0         0   \n",
       "4  ['Frédéric Chopin', 'Vladimir Horowitz']           1         0   \n",
       "\n",
       "   danceability  energy  song_key  loudness  song_mode  speechiness  \\\n",
       "0         0.708  0.1950        10   -12.428          1       0.0506   \n",
       "1         0.379  0.0135         8   -28.454          1       0.0462   \n",
       "2         0.749  0.2200         5   -19.924          0       0.9290   \n",
       "3         0.781  0.1300         1   -14.734          0       0.0926   \n",
       "4         0.210  0.2040        11   -16.829          1       0.0424   \n",
       "\n",
       "   acousticness  instrumentalness  liveness  valence    tempo  duration_ms  \\\n",
       "0         0.995             0.563    0.1510   0.7790  118.469       158648   \n",
       "1         0.994             0.901    0.0763   0.0767   83.972       282133   \n",
       "2         0.604             0.000    0.1190   0.8800  107.177       104300   \n",
       "3         0.995             0.887    0.1110   0.7200  108.003       180760   \n",
       "4         0.990             0.908    0.0980   0.0693   62.149       687733   \n",
       "\n",
       "  release_date  year  \n",
       "0         1928  1928  \n",
       "1         1928  1928  \n",
       "2         1928  1928  \n",
       "3    9/25/1928  1928  \n",
       "4         1928  1928  "
      ]
     },
     "execution_count": 6,
     "metadata": {},
     "output_type": "execute_result"
    }
   ],
   "source": [
    "kaggle = pd.read_csv('Kaggle Datasets/data.csv')\n",
    "\n",
    "print(kaggle.shape)\n",
    "kaggle.head()"
   ]
  },
  {
   "cell_type": "code",
   "execution_count": 7,
   "metadata": {},
   "outputs": [
    {
     "data": {
      "text/plain": [
       "0                            Carl Woitschach\n",
       "1         Robert Schumann, Vladimir Horowitz\n",
       "2                        Seweryn Goszczyński\n",
       "3                           Francisco Canaro\n",
       "4         Frédéric Chopin, Vladimir Horowitz\n",
       "                         ...                \n",
       "169904                      DripReport, Tyga\n",
       "169905          Leon Bridges, Terrace Martin\n",
       "169906                       Kygo, Oh Wonder\n",
       "169907               Cash Cash, Andy Grammer\n",
       "169908                        Ingrid Andress\n",
       "Name: artists, Length: 169909, dtype: object"
      ]
     },
     "execution_count": 7,
     "metadata": {},
     "output_type": "execute_result"
    }
   ],
   "source": [
    "kaggle['artists'] = kaggle['artists'].map(lambda x: x.lstrip(\"['\").rstrip(\"']\"))\n",
    "kaggle['artists'] = kaggle['artists'].map(lambda x: x.replace(\"', '\",\", \"))\n",
    "kaggle['artists']"
   ]
  },
  {
   "cell_type": "code",
   "execution_count": 8,
   "metadata": {},
   "outputs": [
    {
     "data": {
      "text/html": [
       "<div>\n",
       "<style scoped>\n",
       "    .dataframe tbody tr th:only-of-type {\n",
       "        vertical-align: middle;\n",
       "    }\n",
       "\n",
       "    .dataframe tbody tr th {\n",
       "        vertical-align: top;\n",
       "    }\n",
       "\n",
       "    .dataframe thead th {\n",
       "        text-align: right;\n",
       "    }\n",
       "</style>\n",
       "<table border=\"1\" class=\"dataframe\">\n",
       "  <thead>\n",
       "    <tr style=\"text-align: right;\">\n",
       "      <th></th>\n",
       "      <th>song_id</th>\n",
       "      <th>song_name</th>\n",
       "      <th>artists</th>\n",
       "      <th>popularity</th>\n",
       "      <th>explicit</th>\n",
       "      <th>danceability</th>\n",
       "      <th>energy</th>\n",
       "      <th>song_key</th>\n",
       "      <th>loudness</th>\n",
       "      <th>song_mode</th>\n",
       "      <th>speechiness</th>\n",
       "      <th>acousticness</th>\n",
       "      <th>instrumentalness</th>\n",
       "      <th>liveness</th>\n",
       "      <th>valence</th>\n",
       "      <th>tempo</th>\n",
       "      <th>duration_ms</th>\n",
       "      <th>release_date</th>\n",
       "      <th>year</th>\n",
       "    </tr>\n",
       "  </thead>\n",
       "  <tbody>\n",
       "    <tr>\n",
       "      <th>0</th>\n",
       "      <td>6KbQ3uYMLKb5jDxLF7wYDD</td>\n",
       "      <td>Singende Bataillone 1. Teil</td>\n",
       "      <td>Carl Woitschach</td>\n",
       "      <td>0</td>\n",
       "      <td>0</td>\n",
       "      <td>0.708</td>\n",
       "      <td>0.1950</td>\n",
       "      <td>10</td>\n",
       "      <td>-12.428</td>\n",
       "      <td>1</td>\n",
       "      <td>0.0506</td>\n",
       "      <td>0.9950</td>\n",
       "      <td>0.563000</td>\n",
       "      <td>0.1510</td>\n",
       "      <td>0.7790</td>\n",
       "      <td>118.469</td>\n",
       "      <td>158648</td>\n",
       "      <td>1928</td>\n",
       "      <td>1928</td>\n",
       "    </tr>\n",
       "    <tr>\n",
       "      <th>1</th>\n",
       "      <td>6KuQTIu1KoTTkLXKrwlLPV</td>\n",
       "      <td>Fantasiestücke, Op. 111: Più tosto lento</td>\n",
       "      <td>Robert Schumann, Vladimir Horowitz</td>\n",
       "      <td>0</td>\n",
       "      <td>0</td>\n",
       "      <td>0.379</td>\n",
       "      <td>0.0135</td>\n",
       "      <td>8</td>\n",
       "      <td>-28.454</td>\n",
       "      <td>1</td>\n",
       "      <td>0.0462</td>\n",
       "      <td>0.9940</td>\n",
       "      <td>0.901000</td>\n",
       "      <td>0.0763</td>\n",
       "      <td>0.0767</td>\n",
       "      <td>83.972</td>\n",
       "      <td>282133</td>\n",
       "      <td>1928</td>\n",
       "      <td>1928</td>\n",
       "    </tr>\n",
       "    <tr>\n",
       "      <th>2</th>\n",
       "      <td>6L63VW0PibdM1HDSBoqnoM</td>\n",
       "      <td>Chapter 1.18 - Zamek kaniowski</td>\n",
       "      <td>Seweryn Goszczyński</td>\n",
       "      <td>0</td>\n",
       "      <td>0</td>\n",
       "      <td>0.749</td>\n",
       "      <td>0.2200</td>\n",
       "      <td>5</td>\n",
       "      <td>-19.924</td>\n",
       "      <td>0</td>\n",
       "      <td>0.9290</td>\n",
       "      <td>0.6040</td>\n",
       "      <td>0.000000</td>\n",
       "      <td>0.1190</td>\n",
       "      <td>0.8800</td>\n",
       "      <td>107.177</td>\n",
       "      <td>104300</td>\n",
       "      <td>1928</td>\n",
       "      <td>1928</td>\n",
       "    </tr>\n",
       "    <tr>\n",
       "      <th>3</th>\n",
       "      <td>6M94FkXd15sOAOQYRnWPN8</td>\n",
       "      <td>Bebamos Juntos - Instrumental (Remasterizado)</td>\n",
       "      <td>Francisco Canaro</td>\n",
       "      <td>0</td>\n",
       "      <td>0</td>\n",
       "      <td>0.781</td>\n",
       "      <td>0.1300</td>\n",
       "      <td>1</td>\n",
       "      <td>-14.734</td>\n",
       "      <td>0</td>\n",
       "      <td>0.0926</td>\n",
       "      <td>0.9950</td>\n",
       "      <td>0.887000</td>\n",
       "      <td>0.1110</td>\n",
       "      <td>0.7200</td>\n",
       "      <td>108.003</td>\n",
       "      <td>180760</td>\n",
       "      <td>9/25/1928</td>\n",
       "      <td>1928</td>\n",
       "    </tr>\n",
       "    <tr>\n",
       "      <th>4</th>\n",
       "      <td>6N6tiFZ9vLTSOIxkj8qKrd</td>\n",
       "      <td>Polonaise-Fantaisie in A-Flat Major, Op. 61</td>\n",
       "      <td>Frédéric Chopin, Vladimir Horowitz</td>\n",
       "      <td>1</td>\n",
       "      <td>0</td>\n",
       "      <td>0.210</td>\n",
       "      <td>0.2040</td>\n",
       "      <td>11</td>\n",
       "      <td>-16.829</td>\n",
       "      <td>1</td>\n",
       "      <td>0.0424</td>\n",
       "      <td>0.9900</td>\n",
       "      <td>0.908000</td>\n",
       "      <td>0.0980</td>\n",
       "      <td>0.0693</td>\n",
       "      <td>62.149</td>\n",
       "      <td>687733</td>\n",
       "      <td>1928</td>\n",
       "      <td>1928</td>\n",
       "    </tr>\n",
       "    <tr>\n",
       "      <th>...</th>\n",
       "      <td>...</td>\n",
       "      <td>...</td>\n",
       "      <td>...</td>\n",
       "      <td>...</td>\n",
       "      <td>...</td>\n",
       "      <td>...</td>\n",
       "      <td>...</td>\n",
       "      <td>...</td>\n",
       "      <td>...</td>\n",
       "      <td>...</td>\n",
       "      <td>...</td>\n",
       "      <td>...</td>\n",
       "      <td>...</td>\n",
       "      <td>...</td>\n",
       "      <td>...</td>\n",
       "      <td>...</td>\n",
       "      <td>...</td>\n",
       "      <td>...</td>\n",
       "      <td>...</td>\n",
       "    </tr>\n",
       "    <tr>\n",
       "      <th>169904</th>\n",
       "      <td>4KppkflX7I3vJQk7urOJaS</td>\n",
       "      <td>Skechers (feat. Tyga) - Remix</td>\n",
       "      <td>DripReport, Tyga</td>\n",
       "      <td>75</td>\n",
       "      <td>1</td>\n",
       "      <td>0.875</td>\n",
       "      <td>0.4430</td>\n",
       "      <td>1</td>\n",
       "      <td>-7.461</td>\n",
       "      <td>1</td>\n",
       "      <td>0.1430</td>\n",
       "      <td>0.1730</td>\n",
       "      <td>0.000032</td>\n",
       "      <td>0.0891</td>\n",
       "      <td>0.3060</td>\n",
       "      <td>100.012</td>\n",
       "      <td>163800</td>\n",
       "      <td>5/15/2020</td>\n",
       "      <td>2020</td>\n",
       "    </tr>\n",
       "    <tr>\n",
       "      <th>169905</th>\n",
       "      <td>1ehhGlTvjtHo2e4xJFB0SZ</td>\n",
       "      <td>Sweeter (feat. Terrace Martin)</td>\n",
       "      <td>Leon Bridges, Terrace Martin</td>\n",
       "      <td>64</td>\n",
       "      <td>0</td>\n",
       "      <td>0.719</td>\n",
       "      <td>0.3850</td>\n",
       "      <td>8</td>\n",
       "      <td>-10.907</td>\n",
       "      <td>1</td>\n",
       "      <td>0.0403</td>\n",
       "      <td>0.0167</td>\n",
       "      <td>0.031300</td>\n",
       "      <td>0.1110</td>\n",
       "      <td>0.2700</td>\n",
       "      <td>128.000</td>\n",
       "      <td>167468</td>\n",
       "      <td>6/8/2020</td>\n",
       "      <td>2020</td>\n",
       "    </tr>\n",
       "    <tr>\n",
       "      <th>169906</th>\n",
       "      <td>52eycxprLhK3lPcRLbQiVk</td>\n",
       "      <td>How Would I Know</td>\n",
       "      <td>Kygo, Oh Wonder</td>\n",
       "      <td>70</td>\n",
       "      <td>0</td>\n",
       "      <td>0.514</td>\n",
       "      <td>0.5390</td>\n",
       "      <td>7</td>\n",
       "      <td>-9.332</td>\n",
       "      <td>1</td>\n",
       "      <td>0.1050</td>\n",
       "      <td>0.5380</td>\n",
       "      <td>0.002330</td>\n",
       "      <td>0.1080</td>\n",
       "      <td>0.1530</td>\n",
       "      <td>123.700</td>\n",
       "      <td>180700</td>\n",
       "      <td>5/29/2020</td>\n",
       "      <td>2020</td>\n",
       "    </tr>\n",
       "    <tr>\n",
       "      <th>169907</th>\n",
       "      <td>3wYOGJYD31sLRmBgCvWxa4</td>\n",
       "      <td>I Found You</td>\n",
       "      <td>Cash Cash, Andy Grammer</td>\n",
       "      <td>70</td>\n",
       "      <td>0</td>\n",
       "      <td>0.646</td>\n",
       "      <td>0.7610</td>\n",
       "      <td>1</td>\n",
       "      <td>-2.557</td>\n",
       "      <td>1</td>\n",
       "      <td>0.0385</td>\n",
       "      <td>0.0714</td>\n",
       "      <td>0.000000</td>\n",
       "      <td>0.2220</td>\n",
       "      <td>0.4720</td>\n",
       "      <td>129.916</td>\n",
       "      <td>167308</td>\n",
       "      <td>2/28/2020</td>\n",
       "      <td>2020</td>\n",
       "    </tr>\n",
       "    <tr>\n",
       "      <th>169908</th>\n",
       "      <td>60RFlt48hm0l4Fu0JoccOl</td>\n",
       "      <td>More Hearts Than Mine</td>\n",
       "      <td>Ingrid Andress</td>\n",
       "      <td>65</td>\n",
       "      <td>0</td>\n",
       "      <td>0.512</td>\n",
       "      <td>0.4280</td>\n",
       "      <td>0</td>\n",
       "      <td>-7.387</td>\n",
       "      <td>1</td>\n",
       "      <td>0.0271</td>\n",
       "      <td>0.1090</td>\n",
       "      <td>0.000000</td>\n",
       "      <td>0.1050</td>\n",
       "      <td>0.3660</td>\n",
       "      <td>80.588</td>\n",
       "      <td>214787</td>\n",
       "      <td>3/27/2020</td>\n",
       "      <td>2020</td>\n",
       "    </tr>\n",
       "  </tbody>\n",
       "</table>\n",
       "<p>169909 rows × 19 columns</p>\n",
       "</div>"
      ],
      "text/plain": [
       "                       song_id                                      song_name  \\\n",
       "0       6KbQ3uYMLKb5jDxLF7wYDD                    Singende Bataillone 1. Teil   \n",
       "1       6KuQTIu1KoTTkLXKrwlLPV       Fantasiestücke, Op. 111: Più tosto lento   \n",
       "2       6L63VW0PibdM1HDSBoqnoM                 Chapter 1.18 - Zamek kaniowski   \n",
       "3       6M94FkXd15sOAOQYRnWPN8  Bebamos Juntos - Instrumental (Remasterizado)   \n",
       "4       6N6tiFZ9vLTSOIxkj8qKrd    Polonaise-Fantaisie in A-Flat Major, Op. 61   \n",
       "...                        ...                                            ...   \n",
       "169904  4KppkflX7I3vJQk7urOJaS                  Skechers (feat. Tyga) - Remix   \n",
       "169905  1ehhGlTvjtHo2e4xJFB0SZ                 Sweeter (feat. Terrace Martin)   \n",
       "169906  52eycxprLhK3lPcRLbQiVk                               How Would I Know   \n",
       "169907  3wYOGJYD31sLRmBgCvWxa4                                    I Found You   \n",
       "169908  60RFlt48hm0l4Fu0JoccOl                          More Hearts Than Mine   \n",
       "\n",
       "                                   artists  popularity  explicit  \\\n",
       "0                          Carl Woitschach           0         0   \n",
       "1       Robert Schumann, Vladimir Horowitz           0         0   \n",
       "2                      Seweryn Goszczyński           0         0   \n",
       "3                         Francisco Canaro           0         0   \n",
       "4       Frédéric Chopin, Vladimir Horowitz           1         0   \n",
       "...                                    ...         ...       ...   \n",
       "169904                    DripReport, Tyga          75         1   \n",
       "169905        Leon Bridges, Terrace Martin          64         0   \n",
       "169906                     Kygo, Oh Wonder          70         0   \n",
       "169907             Cash Cash, Andy Grammer          70         0   \n",
       "169908                      Ingrid Andress          65         0   \n",
       "\n",
       "        danceability  energy  song_key  loudness  song_mode  speechiness  \\\n",
       "0              0.708  0.1950        10   -12.428          1       0.0506   \n",
       "1              0.379  0.0135         8   -28.454          1       0.0462   \n",
       "2              0.749  0.2200         5   -19.924          0       0.9290   \n",
       "3              0.781  0.1300         1   -14.734          0       0.0926   \n",
       "4              0.210  0.2040        11   -16.829          1       0.0424   \n",
       "...              ...     ...       ...       ...        ...          ...   \n",
       "169904         0.875  0.4430         1    -7.461          1       0.1430   \n",
       "169905         0.719  0.3850         8   -10.907          1       0.0403   \n",
       "169906         0.514  0.5390         7    -9.332          1       0.1050   \n",
       "169907         0.646  0.7610         1    -2.557          1       0.0385   \n",
       "169908         0.512  0.4280         0    -7.387          1       0.0271   \n",
       "\n",
       "        acousticness  instrumentalness  liveness  valence    tempo  \\\n",
       "0             0.9950          0.563000    0.1510   0.7790  118.469   \n",
       "1             0.9940          0.901000    0.0763   0.0767   83.972   \n",
       "2             0.6040          0.000000    0.1190   0.8800  107.177   \n",
       "3             0.9950          0.887000    0.1110   0.7200  108.003   \n",
       "4             0.9900          0.908000    0.0980   0.0693   62.149   \n",
       "...              ...               ...       ...      ...      ...   \n",
       "169904        0.1730          0.000032    0.0891   0.3060  100.012   \n",
       "169905        0.0167          0.031300    0.1110   0.2700  128.000   \n",
       "169906        0.5380          0.002330    0.1080   0.1530  123.700   \n",
       "169907        0.0714          0.000000    0.2220   0.4720  129.916   \n",
       "169908        0.1090          0.000000    0.1050   0.3660   80.588   \n",
       "\n",
       "        duration_ms release_date  year  \n",
       "0            158648         1928  1928  \n",
       "1            282133         1928  1928  \n",
       "2            104300         1928  1928  \n",
       "3            180760    9/25/1928  1928  \n",
       "4            687733         1928  1928  \n",
       "...             ...          ...   ...  \n",
       "169904       163800    5/15/2020  2020  \n",
       "169905       167468     6/8/2020  2020  \n",
       "169906       180700    5/29/2020  2020  \n",
       "169907       167308    2/28/2020  2020  \n",
       "169908       214787    3/27/2020  2020  \n",
       "\n",
       "[169909 rows x 19 columns]"
      ]
     },
     "execution_count": 8,
     "metadata": {},
     "output_type": "execute_result"
    }
   ],
   "source": [
    "kaggle"
   ]
  },
  {
   "cell_type": "code",
   "execution_count": 9,
   "metadata": {
    "colab": {
     "base_uri": "https://localhost:8080/"
    },
    "executionInfo": {
     "elapsed": 764,
     "status": "ok",
     "timestamp": 1604788443018,
     "user": {
      "displayName": "Jesús Caballero Medrano",
      "photoUrl": "https://lh3.googleusercontent.com/a-/AOh14GgLwxzqHHwii9Oj16H9ZGHE_-QU1ZdrtVqAlqB2Wg=s64",
      "userId": "13015949963564954961"
     },
     "user_tz": 360
    },
    "id": "fr76nEFo1qbh",
    "outputId": "11e7a83b-3e41-43e3-9b38-63c6456aee51"
   },
   "outputs": [
    {
     "data": {
      "text/plain": [
       "Index(['song_id', 'song_name', 'artists', 'popularity', 'explicit',\n",
       "       'danceability', 'energy', 'song_key', 'loudness', 'song_mode',\n",
       "       'speechiness', 'acousticness', 'instrumentalness', 'liveness',\n",
       "       'valence', 'tempo', 'duration_ms', 'release_date', 'year'],\n",
       "      dtype='object')"
      ]
     },
     "execution_count": 9,
     "metadata": {},
     "output_type": "execute_result"
    }
   ],
   "source": [
    "kaggle.columns"
   ]
  },
  {
   "cell_type": "code",
   "execution_count": 10,
   "metadata": {},
   "outputs": [],
   "source": [
    "# preparing columns for the clusters\n",
    "kaggle['cluster'] = [-1] * len(kaggle)\n",
    "kaggle['subcluster'] = [-1] * len(kaggle)"
   ]
  },
  {
   "cell_type": "code",
   "execution_count": 11,
   "metadata": {
    "colab": {
     "base_uri": "https://localhost:8080/",
     "height": 424
    },
    "executionInfo": {
     "elapsed": 1052,
     "status": "ok",
     "timestamp": 1604788443313,
     "user": {
      "displayName": "Jesús Caballero Medrano",
      "photoUrl": "https://lh3.googleusercontent.com/a-/AOh14GgLwxzqHHwii9Oj16H9ZGHE_-QU1ZdrtVqAlqB2Wg=s64",
      "userId": "13015949963564954961"
     },
     "user_tz": 360
    },
    "id": "zcl5PcBE1qbl",
    "outputId": "881fe9d8-2bb7-4a57-f890-d77115144811"
   },
   "outputs": [
    {
     "data": {
      "text/html": [
       "<div>\n",
       "<style scoped>\n",
       "    .dataframe tbody tr th:only-of-type {\n",
       "        vertical-align: middle;\n",
       "    }\n",
       "\n",
       "    .dataframe tbody tr th {\n",
       "        vertical-align: top;\n",
       "    }\n",
       "\n",
       "    .dataframe thead th {\n",
       "        text-align: right;\n",
       "    }\n",
       "</style>\n",
       "<table border=\"1\" class=\"dataframe\">\n",
       "  <thead>\n",
       "    <tr style=\"text-align: right;\">\n",
       "      <th></th>\n",
       "      <th>acousticness</th>\n",
       "      <th>danceability</th>\n",
       "      <th>energy</th>\n",
       "      <th>instrumentalness</th>\n",
       "      <th>liveness</th>\n",
       "      <th>loudness</th>\n",
       "      <th>speechiness</th>\n",
       "      <th>tempo</th>\n",
       "      <th>valence</th>\n",
       "    </tr>\n",
       "  </thead>\n",
       "  <tbody>\n",
       "    <tr>\n",
       "      <th>0</th>\n",
       "      <td>0.9950</td>\n",
       "      <td>0.708</td>\n",
       "      <td>0.1950</td>\n",
       "      <td>0.563000</td>\n",
       "      <td>0.1510</td>\n",
       "      <td>-12.428</td>\n",
       "      <td>0.0506</td>\n",
       "      <td>118.469</td>\n",
       "      <td>0.7790</td>\n",
       "    </tr>\n",
       "    <tr>\n",
       "      <th>1</th>\n",
       "      <td>0.9940</td>\n",
       "      <td>0.379</td>\n",
       "      <td>0.0135</td>\n",
       "      <td>0.901000</td>\n",
       "      <td>0.0763</td>\n",
       "      <td>-28.454</td>\n",
       "      <td>0.0462</td>\n",
       "      <td>83.972</td>\n",
       "      <td>0.0767</td>\n",
       "    </tr>\n",
       "    <tr>\n",
       "      <th>2</th>\n",
       "      <td>0.6040</td>\n",
       "      <td>0.749</td>\n",
       "      <td>0.2200</td>\n",
       "      <td>0.000000</td>\n",
       "      <td>0.1190</td>\n",
       "      <td>-19.924</td>\n",
       "      <td>0.9290</td>\n",
       "      <td>107.177</td>\n",
       "      <td>0.8800</td>\n",
       "    </tr>\n",
       "    <tr>\n",
       "      <th>3</th>\n",
       "      <td>0.9950</td>\n",
       "      <td>0.781</td>\n",
       "      <td>0.1300</td>\n",
       "      <td>0.887000</td>\n",
       "      <td>0.1110</td>\n",
       "      <td>-14.734</td>\n",
       "      <td>0.0926</td>\n",
       "      <td>108.003</td>\n",
       "      <td>0.7200</td>\n",
       "    </tr>\n",
       "    <tr>\n",
       "      <th>4</th>\n",
       "      <td>0.9900</td>\n",
       "      <td>0.210</td>\n",
       "      <td>0.2040</td>\n",
       "      <td>0.908000</td>\n",
       "      <td>0.0980</td>\n",
       "      <td>-16.829</td>\n",
       "      <td>0.0424</td>\n",
       "      <td>62.149</td>\n",
       "      <td>0.0693</td>\n",
       "    </tr>\n",
       "    <tr>\n",
       "      <th>...</th>\n",
       "      <td>...</td>\n",
       "      <td>...</td>\n",
       "      <td>...</td>\n",
       "      <td>...</td>\n",
       "      <td>...</td>\n",
       "      <td>...</td>\n",
       "      <td>...</td>\n",
       "      <td>...</td>\n",
       "      <td>...</td>\n",
       "    </tr>\n",
       "    <tr>\n",
       "      <th>169904</th>\n",
       "      <td>0.1730</td>\n",
       "      <td>0.875</td>\n",
       "      <td>0.4430</td>\n",
       "      <td>0.000032</td>\n",
       "      <td>0.0891</td>\n",
       "      <td>-7.461</td>\n",
       "      <td>0.1430</td>\n",
       "      <td>100.012</td>\n",
       "      <td>0.3060</td>\n",
       "    </tr>\n",
       "    <tr>\n",
       "      <th>169905</th>\n",
       "      <td>0.0167</td>\n",
       "      <td>0.719</td>\n",
       "      <td>0.3850</td>\n",
       "      <td>0.031300</td>\n",
       "      <td>0.1110</td>\n",
       "      <td>-10.907</td>\n",
       "      <td>0.0403</td>\n",
       "      <td>128.000</td>\n",
       "      <td>0.2700</td>\n",
       "    </tr>\n",
       "    <tr>\n",
       "      <th>169906</th>\n",
       "      <td>0.5380</td>\n",
       "      <td>0.514</td>\n",
       "      <td>0.5390</td>\n",
       "      <td>0.002330</td>\n",
       "      <td>0.1080</td>\n",
       "      <td>-9.332</td>\n",
       "      <td>0.1050</td>\n",
       "      <td>123.700</td>\n",
       "      <td>0.1530</td>\n",
       "    </tr>\n",
       "    <tr>\n",
       "      <th>169907</th>\n",
       "      <td>0.0714</td>\n",
       "      <td>0.646</td>\n",
       "      <td>0.7610</td>\n",
       "      <td>0.000000</td>\n",
       "      <td>0.2220</td>\n",
       "      <td>-2.557</td>\n",
       "      <td>0.0385</td>\n",
       "      <td>129.916</td>\n",
       "      <td>0.4720</td>\n",
       "    </tr>\n",
       "    <tr>\n",
       "      <th>169908</th>\n",
       "      <td>0.1090</td>\n",
       "      <td>0.512</td>\n",
       "      <td>0.4280</td>\n",
       "      <td>0.000000</td>\n",
       "      <td>0.1050</td>\n",
       "      <td>-7.387</td>\n",
       "      <td>0.0271</td>\n",
       "      <td>80.588</td>\n",
       "      <td>0.3660</td>\n",
       "    </tr>\n",
       "  </tbody>\n",
       "</table>\n",
       "<p>169909 rows × 9 columns</p>\n",
       "</div>"
      ],
      "text/plain": [
       "        acousticness  danceability  energy  instrumentalness  liveness  \\\n",
       "0             0.9950         0.708  0.1950          0.563000    0.1510   \n",
       "1             0.9940         0.379  0.0135          0.901000    0.0763   \n",
       "2             0.6040         0.749  0.2200          0.000000    0.1190   \n",
       "3             0.9950         0.781  0.1300          0.887000    0.1110   \n",
       "4             0.9900         0.210  0.2040          0.908000    0.0980   \n",
       "...              ...           ...     ...               ...       ...   \n",
       "169904        0.1730         0.875  0.4430          0.000032    0.0891   \n",
       "169905        0.0167         0.719  0.3850          0.031300    0.1110   \n",
       "169906        0.5380         0.514  0.5390          0.002330    0.1080   \n",
       "169907        0.0714         0.646  0.7610          0.000000    0.2220   \n",
       "169908        0.1090         0.512  0.4280          0.000000    0.1050   \n",
       "\n",
       "        loudness  speechiness    tempo  valence  \n",
       "0        -12.428       0.0506  118.469   0.7790  \n",
       "1        -28.454       0.0462   83.972   0.0767  \n",
       "2        -19.924       0.9290  107.177   0.8800  \n",
       "3        -14.734       0.0926  108.003   0.7200  \n",
       "4        -16.829       0.0424   62.149   0.0693  \n",
       "...          ...          ...      ...      ...  \n",
       "169904    -7.461       0.1430  100.012   0.3060  \n",
       "169905   -10.907       0.0403  128.000   0.2700  \n",
       "169906    -9.332       0.1050  123.700   0.1530  \n",
       "169907    -2.557       0.0385  129.916   0.4720  \n",
       "169908    -7.387       0.0271   80.588   0.3660  \n",
       "\n",
       "[169909 rows x 9 columns]"
      ]
     },
     "execution_count": 11,
     "metadata": {},
     "output_type": "execute_result"
    }
   ],
   "source": [
    "features = ['acousticness','danceability','energy','instrumentalness','liveness', 'loudness','speechiness', 'tempo','valence']\n",
    "\n",
    "kaggle[features]"
   ]
  },
  {
   "cell_type": "code",
   "execution_count": 12,
   "metadata": {
    "colab": {
     "base_uri": "https://localhost:8080/",
     "height": 424
    },
    "executionInfo": {
     "elapsed": 1048,
     "status": "ok",
     "timestamp": 1604788443314,
     "user": {
      "displayName": "Jesús Caballero Medrano",
      "photoUrl": "https://lh3.googleusercontent.com/a-/AOh14GgLwxzqHHwii9Oj16H9ZGHE_-QU1ZdrtVqAlqB2Wg=s64",
      "userId": "13015949963564954961"
     },
     "user_tz": 360
    },
    "id": "h3dPLnGG1qbq",
    "outputId": "5af374a9-dfab-4ce9-891a-88521f8096ff"
   },
   "outputs": [
    {
     "data": {
      "text/html": [
       "<div>\n",
       "<style scoped>\n",
       "    .dataframe tbody tr th:only-of-type {\n",
       "        vertical-align: middle;\n",
       "    }\n",
       "\n",
       "    .dataframe tbody tr th {\n",
       "        vertical-align: top;\n",
       "    }\n",
       "\n",
       "    .dataframe thead th {\n",
       "        text-align: right;\n",
       "    }\n",
       "</style>\n",
       "<table border=\"1\" class=\"dataframe\">\n",
       "  <thead>\n",
       "    <tr style=\"text-align: right;\">\n",
       "      <th></th>\n",
       "      <th>release_date</th>\n",
       "      <th>year</th>\n",
       "    </tr>\n",
       "  </thead>\n",
       "  <tbody>\n",
       "    <tr>\n",
       "      <th>0</th>\n",
       "      <td>1928</td>\n",
       "      <td>1928</td>\n",
       "    </tr>\n",
       "    <tr>\n",
       "      <th>1</th>\n",
       "      <td>1928</td>\n",
       "      <td>1928</td>\n",
       "    </tr>\n",
       "    <tr>\n",
       "      <th>2</th>\n",
       "      <td>1928</td>\n",
       "      <td>1928</td>\n",
       "    </tr>\n",
       "    <tr>\n",
       "      <th>3</th>\n",
       "      <td>9/25/1928</td>\n",
       "      <td>1928</td>\n",
       "    </tr>\n",
       "    <tr>\n",
       "      <th>4</th>\n",
       "      <td>1928</td>\n",
       "      <td>1928</td>\n",
       "    </tr>\n",
       "    <tr>\n",
       "      <th>...</th>\n",
       "      <td>...</td>\n",
       "      <td>...</td>\n",
       "    </tr>\n",
       "    <tr>\n",
       "      <th>169904</th>\n",
       "      <td>5/15/2020</td>\n",
       "      <td>2020</td>\n",
       "    </tr>\n",
       "    <tr>\n",
       "      <th>169905</th>\n",
       "      <td>6/8/2020</td>\n",
       "      <td>2020</td>\n",
       "    </tr>\n",
       "    <tr>\n",
       "      <th>169906</th>\n",
       "      <td>5/29/2020</td>\n",
       "      <td>2020</td>\n",
       "    </tr>\n",
       "    <tr>\n",
       "      <th>169907</th>\n",
       "      <td>2/28/2020</td>\n",
       "      <td>2020</td>\n",
       "    </tr>\n",
       "    <tr>\n",
       "      <th>169908</th>\n",
       "      <td>3/27/2020</td>\n",
       "      <td>2020</td>\n",
       "    </tr>\n",
       "  </tbody>\n",
       "</table>\n",
       "<p>169909 rows × 2 columns</p>\n",
       "</div>"
      ],
      "text/plain": [
       "       release_date  year\n",
       "0              1928  1928\n",
       "1              1928  1928\n",
       "2              1928  1928\n",
       "3         9/25/1928  1928\n",
       "4              1928  1928\n",
       "...             ...   ...\n",
       "169904    5/15/2020  2020\n",
       "169905     6/8/2020  2020\n",
       "169906    5/29/2020  2020\n",
       "169907    2/28/2020  2020\n",
       "169908    3/27/2020  2020\n",
       "\n",
       "[169909 rows x 2 columns]"
      ]
     },
     "execution_count": 12,
     "metadata": {},
     "output_type": "execute_result"
    }
   ],
   "source": [
    "# because the similarity, I'll be focusing just in year.\n",
    "kaggle[['release_date','year']]"
   ]
  },
  {
   "cell_type": "code",
   "execution_count": 13,
   "metadata": {
    "colab": {
     "base_uri": "https://localhost:8080/",
     "height": 770
    },
    "executionInfo": {
     "elapsed": 1045,
     "status": "ok",
     "timestamp": 1604788443316,
     "user": {
      "displayName": "Jesús Caballero Medrano",
      "photoUrl": "https://lh3.googleusercontent.com/a-/AOh14GgLwxzqHHwii9Oj16H9ZGHE_-QU1ZdrtVqAlqB2Wg=s64",
      "userId": "13015949963564954961"
     },
     "user_tz": 360
    },
    "id": "B0e05yl11qbw",
    "outputId": "4a91e60c-1db1-4e7d-adce-689b508eda48"
   },
   "outputs": [
    {
     "data": {
      "text/html": [
       "<div>\n",
       "<style scoped>\n",
       "    .dataframe tbody tr th:only-of-type {\n",
       "        vertical-align: middle;\n",
       "    }\n",
       "\n",
       "    .dataframe tbody tr th {\n",
       "        vertical-align: top;\n",
       "    }\n",
       "\n",
       "    .dataframe thead th {\n",
       "        text-align: right;\n",
       "    }\n",
       "</style>\n",
       "<table border=\"1\" class=\"dataframe\">\n",
       "  <thead>\n",
       "    <tr style=\"text-align: right;\">\n",
       "      <th></th>\n",
       "      <th>artists</th>\n",
       "      <th>popularity</th>\n",
       "      <th>danceability</th>\n",
       "      <th>energy</th>\n",
       "      <th>song_key</th>\n",
       "      <th>loudness</th>\n",
       "      <th>song_mode</th>\n",
       "      <th>speechiness</th>\n",
       "      <th>acousticness</th>\n",
       "      <th>instrumentalness</th>\n",
       "      <th>liveness</th>\n",
       "      <th>valence</th>\n",
       "      <th>tempo</th>\n",
       "      <th>duration_ms</th>\n",
       "      <th>year</th>\n",
       "    </tr>\n",
       "    <tr>\n",
       "      <th>song_id</th>\n",
       "      <th></th>\n",
       "      <th></th>\n",
       "      <th></th>\n",
       "      <th></th>\n",
       "      <th></th>\n",
       "      <th></th>\n",
       "      <th></th>\n",
       "      <th></th>\n",
       "      <th></th>\n",
       "      <th></th>\n",
       "      <th></th>\n",
       "      <th></th>\n",
       "      <th></th>\n",
       "      <th></th>\n",
       "      <th></th>\n",
       "    </tr>\n",
       "  </thead>\n",
       "  <tbody>\n",
       "    <tr>\n",
       "      <th>6KbQ3uYMLKb5jDxLF7wYDD</th>\n",
       "      <td>Carl Woitschach</td>\n",
       "      <td>0</td>\n",
       "      <td>0.708</td>\n",
       "      <td>0.1950</td>\n",
       "      <td>10</td>\n",
       "      <td>-12.428</td>\n",
       "      <td>1</td>\n",
       "      <td>0.0506</td>\n",
       "      <td>0.9950</td>\n",
       "      <td>0.563000</td>\n",
       "      <td>0.1510</td>\n",
       "      <td>0.7790</td>\n",
       "      <td>118.469</td>\n",
       "      <td>158648</td>\n",
       "      <td>1928</td>\n",
       "    </tr>\n",
       "    <tr>\n",
       "      <th>6KuQTIu1KoTTkLXKrwlLPV</th>\n",
       "      <td>Robert Schumann, Vladimir Horowitz</td>\n",
       "      <td>0</td>\n",
       "      <td>0.379</td>\n",
       "      <td>0.0135</td>\n",
       "      <td>8</td>\n",
       "      <td>-28.454</td>\n",
       "      <td>1</td>\n",
       "      <td>0.0462</td>\n",
       "      <td>0.9940</td>\n",
       "      <td>0.901000</td>\n",
       "      <td>0.0763</td>\n",
       "      <td>0.0767</td>\n",
       "      <td>83.972</td>\n",
       "      <td>282133</td>\n",
       "      <td>1928</td>\n",
       "    </tr>\n",
       "    <tr>\n",
       "      <th>6L63VW0PibdM1HDSBoqnoM</th>\n",
       "      <td>Seweryn Goszczyński</td>\n",
       "      <td>0</td>\n",
       "      <td>0.749</td>\n",
       "      <td>0.2200</td>\n",
       "      <td>5</td>\n",
       "      <td>-19.924</td>\n",
       "      <td>0</td>\n",
       "      <td>0.9290</td>\n",
       "      <td>0.6040</td>\n",
       "      <td>0.000000</td>\n",
       "      <td>0.1190</td>\n",
       "      <td>0.8800</td>\n",
       "      <td>107.177</td>\n",
       "      <td>104300</td>\n",
       "      <td>1928</td>\n",
       "    </tr>\n",
       "    <tr>\n",
       "      <th>6M94FkXd15sOAOQYRnWPN8</th>\n",
       "      <td>Francisco Canaro</td>\n",
       "      <td>0</td>\n",
       "      <td>0.781</td>\n",
       "      <td>0.1300</td>\n",
       "      <td>1</td>\n",
       "      <td>-14.734</td>\n",
       "      <td>0</td>\n",
       "      <td>0.0926</td>\n",
       "      <td>0.9950</td>\n",
       "      <td>0.887000</td>\n",
       "      <td>0.1110</td>\n",
       "      <td>0.7200</td>\n",
       "      <td>108.003</td>\n",
       "      <td>180760</td>\n",
       "      <td>1928</td>\n",
       "    </tr>\n",
       "    <tr>\n",
       "      <th>6N6tiFZ9vLTSOIxkj8qKrd</th>\n",
       "      <td>Frédéric Chopin, Vladimir Horowitz</td>\n",
       "      <td>1</td>\n",
       "      <td>0.210</td>\n",
       "      <td>0.2040</td>\n",
       "      <td>11</td>\n",
       "      <td>-16.829</td>\n",
       "      <td>1</td>\n",
       "      <td>0.0424</td>\n",
       "      <td>0.9900</td>\n",
       "      <td>0.908000</td>\n",
       "      <td>0.0980</td>\n",
       "      <td>0.0693</td>\n",
       "      <td>62.149</td>\n",
       "      <td>687733</td>\n",
       "      <td>1928</td>\n",
       "    </tr>\n",
       "    <tr>\n",
       "      <th>...</th>\n",
       "      <td>...</td>\n",
       "      <td>...</td>\n",
       "      <td>...</td>\n",
       "      <td>...</td>\n",
       "      <td>...</td>\n",
       "      <td>...</td>\n",
       "      <td>...</td>\n",
       "      <td>...</td>\n",
       "      <td>...</td>\n",
       "      <td>...</td>\n",
       "      <td>...</td>\n",
       "      <td>...</td>\n",
       "      <td>...</td>\n",
       "      <td>...</td>\n",
       "      <td>...</td>\n",
       "    </tr>\n",
       "    <tr>\n",
       "      <th>4KppkflX7I3vJQk7urOJaS</th>\n",
       "      <td>DripReport, Tyga</td>\n",
       "      <td>75</td>\n",
       "      <td>0.875</td>\n",
       "      <td>0.4430</td>\n",
       "      <td>1</td>\n",
       "      <td>-7.461</td>\n",
       "      <td>1</td>\n",
       "      <td>0.1430</td>\n",
       "      <td>0.1730</td>\n",
       "      <td>0.000032</td>\n",
       "      <td>0.0891</td>\n",
       "      <td>0.3060</td>\n",
       "      <td>100.012</td>\n",
       "      <td>163800</td>\n",
       "      <td>2020</td>\n",
       "    </tr>\n",
       "    <tr>\n",
       "      <th>1ehhGlTvjtHo2e4xJFB0SZ</th>\n",
       "      <td>Leon Bridges, Terrace Martin</td>\n",
       "      <td>64</td>\n",
       "      <td>0.719</td>\n",
       "      <td>0.3850</td>\n",
       "      <td>8</td>\n",
       "      <td>-10.907</td>\n",
       "      <td>1</td>\n",
       "      <td>0.0403</td>\n",
       "      <td>0.0167</td>\n",
       "      <td>0.031300</td>\n",
       "      <td>0.1110</td>\n",
       "      <td>0.2700</td>\n",
       "      <td>128.000</td>\n",
       "      <td>167468</td>\n",
       "      <td>2020</td>\n",
       "    </tr>\n",
       "    <tr>\n",
       "      <th>52eycxprLhK3lPcRLbQiVk</th>\n",
       "      <td>Kygo, Oh Wonder</td>\n",
       "      <td>70</td>\n",
       "      <td>0.514</td>\n",
       "      <td>0.5390</td>\n",
       "      <td>7</td>\n",
       "      <td>-9.332</td>\n",
       "      <td>1</td>\n",
       "      <td>0.1050</td>\n",
       "      <td>0.5380</td>\n",
       "      <td>0.002330</td>\n",
       "      <td>0.1080</td>\n",
       "      <td>0.1530</td>\n",
       "      <td>123.700</td>\n",
       "      <td>180700</td>\n",
       "      <td>2020</td>\n",
       "    </tr>\n",
       "    <tr>\n",
       "      <th>3wYOGJYD31sLRmBgCvWxa4</th>\n",
       "      <td>Cash Cash, Andy Grammer</td>\n",
       "      <td>70</td>\n",
       "      <td>0.646</td>\n",
       "      <td>0.7610</td>\n",
       "      <td>1</td>\n",
       "      <td>-2.557</td>\n",
       "      <td>1</td>\n",
       "      <td>0.0385</td>\n",
       "      <td>0.0714</td>\n",
       "      <td>0.000000</td>\n",
       "      <td>0.2220</td>\n",
       "      <td>0.4720</td>\n",
       "      <td>129.916</td>\n",
       "      <td>167308</td>\n",
       "      <td>2020</td>\n",
       "    </tr>\n",
       "    <tr>\n",
       "      <th>60RFlt48hm0l4Fu0JoccOl</th>\n",
       "      <td>Ingrid Andress</td>\n",
       "      <td>65</td>\n",
       "      <td>0.512</td>\n",
       "      <td>0.4280</td>\n",
       "      <td>0</td>\n",
       "      <td>-7.387</td>\n",
       "      <td>1</td>\n",
       "      <td>0.0271</td>\n",
       "      <td>0.1090</td>\n",
       "      <td>0.000000</td>\n",
       "      <td>0.1050</td>\n",
       "      <td>0.3660</td>\n",
       "      <td>80.588</td>\n",
       "      <td>214787</td>\n",
       "      <td>2020</td>\n",
       "    </tr>\n",
       "  </tbody>\n",
       "</table>\n",
       "<p>169909 rows × 15 columns</p>\n",
       "</div>"
      ],
      "text/plain": [
       "                                                   artists  popularity  \\\n",
       "song_id                                                                  \n",
       "6KbQ3uYMLKb5jDxLF7wYDD                     Carl Woitschach           0   \n",
       "6KuQTIu1KoTTkLXKrwlLPV  Robert Schumann, Vladimir Horowitz           0   \n",
       "6L63VW0PibdM1HDSBoqnoM                 Seweryn Goszczyński           0   \n",
       "6M94FkXd15sOAOQYRnWPN8                    Francisco Canaro           0   \n",
       "6N6tiFZ9vLTSOIxkj8qKrd  Frédéric Chopin, Vladimir Horowitz           1   \n",
       "...                                                    ...         ...   \n",
       "4KppkflX7I3vJQk7urOJaS                    DripReport, Tyga          75   \n",
       "1ehhGlTvjtHo2e4xJFB0SZ        Leon Bridges, Terrace Martin          64   \n",
       "52eycxprLhK3lPcRLbQiVk                     Kygo, Oh Wonder          70   \n",
       "3wYOGJYD31sLRmBgCvWxa4             Cash Cash, Andy Grammer          70   \n",
       "60RFlt48hm0l4Fu0JoccOl                      Ingrid Andress          65   \n",
       "\n",
       "                        danceability  energy  song_key  loudness  song_mode  \\\n",
       "song_id                                                                       \n",
       "6KbQ3uYMLKb5jDxLF7wYDD         0.708  0.1950        10   -12.428          1   \n",
       "6KuQTIu1KoTTkLXKrwlLPV         0.379  0.0135         8   -28.454          1   \n",
       "6L63VW0PibdM1HDSBoqnoM         0.749  0.2200         5   -19.924          0   \n",
       "6M94FkXd15sOAOQYRnWPN8         0.781  0.1300         1   -14.734          0   \n",
       "6N6tiFZ9vLTSOIxkj8qKrd         0.210  0.2040        11   -16.829          1   \n",
       "...                              ...     ...       ...       ...        ...   \n",
       "4KppkflX7I3vJQk7urOJaS         0.875  0.4430         1    -7.461          1   \n",
       "1ehhGlTvjtHo2e4xJFB0SZ         0.719  0.3850         8   -10.907          1   \n",
       "52eycxprLhK3lPcRLbQiVk         0.514  0.5390         7    -9.332          1   \n",
       "3wYOGJYD31sLRmBgCvWxa4         0.646  0.7610         1    -2.557          1   \n",
       "60RFlt48hm0l4Fu0JoccOl         0.512  0.4280         0    -7.387          1   \n",
       "\n",
       "                        speechiness  acousticness  instrumentalness  liveness  \\\n",
       "song_id                                                                         \n",
       "6KbQ3uYMLKb5jDxLF7wYDD       0.0506        0.9950          0.563000    0.1510   \n",
       "6KuQTIu1KoTTkLXKrwlLPV       0.0462        0.9940          0.901000    0.0763   \n",
       "6L63VW0PibdM1HDSBoqnoM       0.9290        0.6040          0.000000    0.1190   \n",
       "6M94FkXd15sOAOQYRnWPN8       0.0926        0.9950          0.887000    0.1110   \n",
       "6N6tiFZ9vLTSOIxkj8qKrd       0.0424        0.9900          0.908000    0.0980   \n",
       "...                             ...           ...               ...       ...   \n",
       "4KppkflX7I3vJQk7urOJaS       0.1430        0.1730          0.000032    0.0891   \n",
       "1ehhGlTvjtHo2e4xJFB0SZ       0.0403        0.0167          0.031300    0.1110   \n",
       "52eycxprLhK3lPcRLbQiVk       0.1050        0.5380          0.002330    0.1080   \n",
       "3wYOGJYD31sLRmBgCvWxa4       0.0385        0.0714          0.000000    0.2220   \n",
       "60RFlt48hm0l4Fu0JoccOl       0.0271        0.1090          0.000000    0.1050   \n",
       "\n",
       "                        valence    tempo  duration_ms  year  \n",
       "song_id                                                      \n",
       "6KbQ3uYMLKb5jDxLF7wYDD   0.7790  118.469       158648  1928  \n",
       "6KuQTIu1KoTTkLXKrwlLPV   0.0767   83.972       282133  1928  \n",
       "6L63VW0PibdM1HDSBoqnoM   0.8800  107.177       104300  1928  \n",
       "6M94FkXd15sOAOQYRnWPN8   0.7200  108.003       180760  1928  \n",
       "6N6tiFZ9vLTSOIxkj8qKrd   0.0693   62.149       687733  1928  \n",
       "...                         ...      ...          ...   ...  \n",
       "4KppkflX7I3vJQk7urOJaS   0.3060  100.012       163800  2020  \n",
       "1ehhGlTvjtHo2e4xJFB0SZ   0.2700  128.000       167468  2020  \n",
       "52eycxprLhK3lPcRLbQiVk   0.1530  123.700       180700  2020  \n",
       "3wYOGJYD31sLRmBgCvWxa4   0.4720  129.916       167308  2020  \n",
       "60RFlt48hm0l4Fu0JoccOl   0.3660   80.588       214787  2020  \n",
       "\n",
       "[169909 rows x 15 columns]"
      ]
     },
     "execution_count": 13,
     "metadata": {},
     "output_type": "execute_result"
    }
   ],
   "source": [
    "# Focusing in the relevant metrics (by now)\n",
    "X = kaggle[['artists', 'popularity', 'danceability', 'energy', 'song_key', 'loudness', 'song_mode',\n",
    "       'speechiness', 'acousticness', 'instrumentalness', 'liveness','valence', 'tempo', 'duration_ms', 'year']]\n",
    "# X = kaggle[['artists', 'popularity', 'explicit','danceability', 'energy', 'song_key', 'loudness', 'song_mode','speechiness',\n",
    "#             'acousticness', 'instrumentalness', 'liveness','valence', 'tempo', 'duration_ms','year']]\n",
    "X = X.set_index(kaggle['song_id'])\n",
    "X"
   ]
  },
  {
   "cell_type": "code",
   "execution_count": 14,
   "metadata": {
    "colab": {
     "base_uri": "https://localhost:8080/"
    },
    "executionInfo": {
     "elapsed": 1043,
     "status": "ok",
     "timestamp": 1604788443317,
     "user": {
      "displayName": "Jesús Caballero Medrano",
      "photoUrl": "https://lh3.googleusercontent.com/a-/AOh14GgLwxzqHHwii9Oj16H9ZGHE_-QU1ZdrtVqAlqB2Wg=s64",
      "userId": "13015949963564954961"
     },
     "user_tz": 360
    },
    "id": "au53JCk11qb1",
    "outputId": "c56bcd5a-bf94-4af6-907a-160f3e952e74"
   },
   "outputs": [
    {
     "data": {
      "text/plain": [
       "array([ 4880, 25162, 26350, ..., 16987,  5032, 13223], dtype=int64)"
      ]
     },
     "execution_count": 14,
     "metadata": {},
     "output_type": "execute_result"
    }
   ],
   "source": [
    "# I have to code the artists to numbers.\n",
    "\n",
    "le = LabelEncoder()\n",
    "trans_artists = le.fit_transform(list(X['artists']))\n",
    "trans_artists"
   ]
  },
  {
   "cell_type": "code",
   "execution_count": 15,
   "metadata": {},
   "outputs": [
    {
     "data": {
      "text/html": [
       "<div>\n",
       "<style scoped>\n",
       "    .dataframe tbody tr th:only-of-type {\n",
       "        vertical-align: middle;\n",
       "    }\n",
       "\n",
       "    .dataframe tbody tr th {\n",
       "        vertical-align: top;\n",
       "    }\n",
       "\n",
       "    .dataframe thead th {\n",
       "        text-align: right;\n",
       "    }\n",
       "</style>\n",
       "<table border=\"1\" class=\"dataframe\">\n",
       "  <thead>\n",
       "    <tr style=\"text-align: right;\">\n",
       "      <th></th>\n",
       "      <th>song_id</th>\n",
       "      <th>song_name</th>\n",
       "      <th>artists</th>\n",
       "      <th>popularity</th>\n",
       "      <th>explicit</th>\n",
       "      <th>danceability</th>\n",
       "      <th>energy</th>\n",
       "      <th>song_key</th>\n",
       "      <th>loudness</th>\n",
       "      <th>song_mode</th>\n",
       "      <th>...</th>\n",
       "      <th>instrumentalness</th>\n",
       "      <th>liveness</th>\n",
       "      <th>valence</th>\n",
       "      <th>tempo</th>\n",
       "      <th>duration_ms</th>\n",
       "      <th>release_date</th>\n",
       "      <th>year</th>\n",
       "      <th>cluster</th>\n",
       "      <th>subcluster</th>\n",
       "      <th>coded_artists</th>\n",
       "    </tr>\n",
       "  </thead>\n",
       "  <tbody>\n",
       "    <tr>\n",
       "      <th>0</th>\n",
       "      <td>6KbQ3uYMLKb5jDxLF7wYDD</td>\n",
       "      <td>Singende Bataillone 1. Teil</td>\n",
       "      <td>Carl Woitschach</td>\n",
       "      <td>0</td>\n",
       "      <td>0</td>\n",
       "      <td>0.708</td>\n",
       "      <td>0.1950</td>\n",
       "      <td>10</td>\n",
       "      <td>-12.428</td>\n",
       "      <td>1</td>\n",
       "      <td>...</td>\n",
       "      <td>0.563</td>\n",
       "      <td>0.1510</td>\n",
       "      <td>0.7790</td>\n",
       "      <td>118.469</td>\n",
       "      <td>158648</td>\n",
       "      <td>1928</td>\n",
       "      <td>1928</td>\n",
       "      <td>-1</td>\n",
       "      <td>-1</td>\n",
       "      <td>4880</td>\n",
       "    </tr>\n",
       "    <tr>\n",
       "      <th>1</th>\n",
       "      <td>6KuQTIu1KoTTkLXKrwlLPV</td>\n",
       "      <td>Fantasiestücke, Op. 111: Più tosto lento</td>\n",
       "      <td>Robert Schumann, Vladimir Horowitz</td>\n",
       "      <td>0</td>\n",
       "      <td>0</td>\n",
       "      <td>0.379</td>\n",
       "      <td>0.0135</td>\n",
       "      <td>8</td>\n",
       "      <td>-28.454</td>\n",
       "      <td>1</td>\n",
       "      <td>...</td>\n",
       "      <td>0.901</td>\n",
       "      <td>0.0763</td>\n",
       "      <td>0.0767</td>\n",
       "      <td>83.972</td>\n",
       "      <td>282133</td>\n",
       "      <td>1928</td>\n",
       "      <td>1928</td>\n",
       "      <td>-1</td>\n",
       "      <td>-1</td>\n",
       "      <td>25162</td>\n",
       "    </tr>\n",
       "    <tr>\n",
       "      <th>2</th>\n",
       "      <td>6L63VW0PibdM1HDSBoqnoM</td>\n",
       "      <td>Chapter 1.18 - Zamek kaniowski</td>\n",
       "      <td>Seweryn Goszczyński</td>\n",
       "      <td>0</td>\n",
       "      <td>0</td>\n",
       "      <td>0.749</td>\n",
       "      <td>0.2200</td>\n",
       "      <td>5</td>\n",
       "      <td>-19.924</td>\n",
       "      <td>0</td>\n",
       "      <td>...</td>\n",
       "      <td>0.000</td>\n",
       "      <td>0.1190</td>\n",
       "      <td>0.8800</td>\n",
       "      <td>107.177</td>\n",
       "      <td>104300</td>\n",
       "      <td>1928</td>\n",
       "      <td>1928</td>\n",
       "      <td>-1</td>\n",
       "      <td>-1</td>\n",
       "      <td>26350</td>\n",
       "    </tr>\n",
       "    <tr>\n",
       "      <th>3</th>\n",
       "      <td>6M94FkXd15sOAOQYRnWPN8</td>\n",
       "      <td>Bebamos Juntos - Instrumental (Remasterizado)</td>\n",
       "      <td>Francisco Canaro</td>\n",
       "      <td>0</td>\n",
       "      <td>0</td>\n",
       "      <td>0.781</td>\n",
       "      <td>0.1300</td>\n",
       "      <td>1</td>\n",
       "      <td>-14.734</td>\n",
       "      <td>0</td>\n",
       "      <td>...</td>\n",
       "      <td>0.887</td>\n",
       "      <td>0.1110</td>\n",
       "      <td>0.7200</td>\n",
       "      <td>108.003</td>\n",
       "      <td>180760</td>\n",
       "      <td>9/25/1928</td>\n",
       "      <td>1928</td>\n",
       "      <td>-1</td>\n",
       "      <td>-1</td>\n",
       "      <td>9693</td>\n",
       "    </tr>\n",
       "    <tr>\n",
       "      <th>4</th>\n",
       "      <td>6N6tiFZ9vLTSOIxkj8qKrd</td>\n",
       "      <td>Polonaise-Fantaisie in A-Flat Major, Op. 61</td>\n",
       "      <td>Frédéric Chopin, Vladimir Horowitz</td>\n",
       "      <td>1</td>\n",
       "      <td>0</td>\n",
       "      <td>0.210</td>\n",
       "      <td>0.2040</td>\n",
       "      <td>11</td>\n",
       "      <td>-16.829</td>\n",
       "      <td>1</td>\n",
       "      <td>...</td>\n",
       "      <td>0.908</td>\n",
       "      <td>0.0980</td>\n",
       "      <td>0.0693</td>\n",
       "      <td>62.149</td>\n",
       "      <td>687733</td>\n",
       "      <td>1928</td>\n",
       "      <td>1928</td>\n",
       "      <td>-1</td>\n",
       "      <td>-1</td>\n",
       "      <td>10245</td>\n",
       "    </tr>\n",
       "  </tbody>\n",
       "</table>\n",
       "<p>5 rows × 22 columns</p>\n",
       "</div>"
      ],
      "text/plain": [
       "                  song_id                                      song_name  \\\n",
       "0  6KbQ3uYMLKb5jDxLF7wYDD                    Singende Bataillone 1. Teil   \n",
       "1  6KuQTIu1KoTTkLXKrwlLPV       Fantasiestücke, Op. 111: Più tosto lento   \n",
       "2  6L63VW0PibdM1HDSBoqnoM                 Chapter 1.18 - Zamek kaniowski   \n",
       "3  6M94FkXd15sOAOQYRnWPN8  Bebamos Juntos - Instrumental (Remasterizado)   \n",
       "4  6N6tiFZ9vLTSOIxkj8qKrd    Polonaise-Fantaisie in A-Flat Major, Op. 61   \n",
       "\n",
       "                              artists  popularity  explicit  danceability  \\\n",
       "0                     Carl Woitschach           0         0         0.708   \n",
       "1  Robert Schumann, Vladimir Horowitz           0         0         0.379   \n",
       "2                 Seweryn Goszczyński           0         0         0.749   \n",
       "3                    Francisco Canaro           0         0         0.781   \n",
       "4  Frédéric Chopin, Vladimir Horowitz           1         0         0.210   \n",
       "\n",
       "   energy  song_key  loudness  song_mode  ...  instrumentalness  liveness  \\\n",
       "0  0.1950        10   -12.428          1  ...             0.563    0.1510   \n",
       "1  0.0135         8   -28.454          1  ...             0.901    0.0763   \n",
       "2  0.2200         5   -19.924          0  ...             0.000    0.1190   \n",
       "3  0.1300         1   -14.734          0  ...             0.887    0.1110   \n",
       "4  0.2040        11   -16.829          1  ...             0.908    0.0980   \n",
       "\n",
       "   valence    tempo  duration_ms  release_date  year cluster  subcluster  \\\n",
       "0   0.7790  118.469       158648          1928  1928      -1          -1   \n",
       "1   0.0767   83.972       282133          1928  1928      -1          -1   \n",
       "2   0.8800  107.177       104300          1928  1928      -1          -1   \n",
       "3   0.7200  108.003       180760     9/25/1928  1928      -1          -1   \n",
       "4   0.0693   62.149       687733          1928  1928      -1          -1   \n",
       "\n",
       "   coded_artists  \n",
       "0           4880  \n",
       "1          25162  \n",
       "2          26350  \n",
       "3           9693  \n",
       "4          10245  \n",
       "\n",
       "[5 rows x 22 columns]"
      ]
     },
     "execution_count": 15,
     "metadata": {},
     "output_type": "execute_result"
    }
   ],
   "source": [
    "kaggle['coded_artists'] = trans_artists\n",
    "kaggle.head()"
   ]
  },
  {
   "cell_type": "code",
   "execution_count": 16,
   "metadata": {
    "colab": {
     "base_uri": "https://localhost:8080/",
     "height": 258
    },
    "executionInfo": {
     "elapsed": 1039,
     "status": "ok",
     "timestamp": 1604788443318,
     "user": {
      "displayName": "Jesús Caballero Medrano",
      "photoUrl": "https://lh3.googleusercontent.com/a-/AOh14GgLwxzqHHwii9Oj16H9ZGHE_-QU1ZdrtVqAlqB2Wg=s64",
      "userId": "13015949963564954961"
     },
     "user_tz": 360
    },
    "id": "a0NhE7gV1qb5",
    "outputId": "eff308ac-027b-4e31-e7c3-652674a3e52f"
   },
   "outputs": [
    {
     "data": {
      "text/html": [
       "<div>\n",
       "<style scoped>\n",
       "    .dataframe tbody tr th:only-of-type {\n",
       "        vertical-align: middle;\n",
       "    }\n",
       "\n",
       "    .dataframe tbody tr th {\n",
       "        vertical-align: top;\n",
       "    }\n",
       "\n",
       "    .dataframe thead th {\n",
       "        text-align: right;\n",
       "    }\n",
       "</style>\n",
       "<table border=\"1\" class=\"dataframe\">\n",
       "  <thead>\n",
       "    <tr style=\"text-align: right;\">\n",
       "      <th></th>\n",
       "      <th>artists</th>\n",
       "      <th>popularity</th>\n",
       "      <th>danceability</th>\n",
       "      <th>energy</th>\n",
       "      <th>song_key</th>\n",
       "      <th>loudness</th>\n",
       "      <th>song_mode</th>\n",
       "      <th>speechiness</th>\n",
       "      <th>acousticness</th>\n",
       "      <th>instrumentalness</th>\n",
       "      <th>liveness</th>\n",
       "      <th>valence</th>\n",
       "      <th>tempo</th>\n",
       "      <th>duration_ms</th>\n",
       "      <th>year</th>\n",
       "    </tr>\n",
       "    <tr>\n",
       "      <th>song_id</th>\n",
       "      <th></th>\n",
       "      <th></th>\n",
       "      <th></th>\n",
       "      <th></th>\n",
       "      <th></th>\n",
       "      <th></th>\n",
       "      <th></th>\n",
       "      <th></th>\n",
       "      <th></th>\n",
       "      <th></th>\n",
       "      <th></th>\n",
       "      <th></th>\n",
       "      <th></th>\n",
       "      <th></th>\n",
       "      <th></th>\n",
       "    </tr>\n",
       "  </thead>\n",
       "  <tbody>\n",
       "    <tr>\n",
       "      <th>6KbQ3uYMLKb5jDxLF7wYDD</th>\n",
       "      <td>4880</td>\n",
       "      <td>0</td>\n",
       "      <td>0.708</td>\n",
       "      <td>0.1950</td>\n",
       "      <td>10</td>\n",
       "      <td>-12.428</td>\n",
       "      <td>1</td>\n",
       "      <td>0.0506</td>\n",
       "      <td>0.995</td>\n",
       "      <td>0.563</td>\n",
       "      <td>0.1510</td>\n",
       "      <td>0.7790</td>\n",
       "      <td>118.469</td>\n",
       "      <td>158648</td>\n",
       "      <td>1928</td>\n",
       "    </tr>\n",
       "    <tr>\n",
       "      <th>6KuQTIu1KoTTkLXKrwlLPV</th>\n",
       "      <td>25162</td>\n",
       "      <td>0</td>\n",
       "      <td>0.379</td>\n",
       "      <td>0.0135</td>\n",
       "      <td>8</td>\n",
       "      <td>-28.454</td>\n",
       "      <td>1</td>\n",
       "      <td>0.0462</td>\n",
       "      <td>0.994</td>\n",
       "      <td>0.901</td>\n",
       "      <td>0.0763</td>\n",
       "      <td>0.0767</td>\n",
       "      <td>83.972</td>\n",
       "      <td>282133</td>\n",
       "      <td>1928</td>\n",
       "    </tr>\n",
       "    <tr>\n",
       "      <th>6L63VW0PibdM1HDSBoqnoM</th>\n",
       "      <td>26350</td>\n",
       "      <td>0</td>\n",
       "      <td>0.749</td>\n",
       "      <td>0.2200</td>\n",
       "      <td>5</td>\n",
       "      <td>-19.924</td>\n",
       "      <td>0</td>\n",
       "      <td>0.9290</td>\n",
       "      <td>0.604</td>\n",
       "      <td>0.000</td>\n",
       "      <td>0.1190</td>\n",
       "      <td>0.8800</td>\n",
       "      <td>107.177</td>\n",
       "      <td>104300</td>\n",
       "      <td>1928</td>\n",
       "    </tr>\n",
       "    <tr>\n",
       "      <th>6M94FkXd15sOAOQYRnWPN8</th>\n",
       "      <td>9693</td>\n",
       "      <td>0</td>\n",
       "      <td>0.781</td>\n",
       "      <td>0.1300</td>\n",
       "      <td>1</td>\n",
       "      <td>-14.734</td>\n",
       "      <td>0</td>\n",
       "      <td>0.0926</td>\n",
       "      <td>0.995</td>\n",
       "      <td>0.887</td>\n",
       "      <td>0.1110</td>\n",
       "      <td>0.7200</td>\n",
       "      <td>108.003</td>\n",
       "      <td>180760</td>\n",
       "      <td>1928</td>\n",
       "    </tr>\n",
       "    <tr>\n",
       "      <th>6N6tiFZ9vLTSOIxkj8qKrd</th>\n",
       "      <td>10245</td>\n",
       "      <td>1</td>\n",
       "      <td>0.210</td>\n",
       "      <td>0.2040</td>\n",
       "      <td>11</td>\n",
       "      <td>-16.829</td>\n",
       "      <td>1</td>\n",
       "      <td>0.0424</td>\n",
       "      <td>0.990</td>\n",
       "      <td>0.908</td>\n",
       "      <td>0.0980</td>\n",
       "      <td>0.0693</td>\n",
       "      <td>62.149</td>\n",
       "      <td>687733</td>\n",
       "      <td>1928</td>\n",
       "    </tr>\n",
       "  </tbody>\n",
       "</table>\n",
       "</div>"
      ],
      "text/plain": [
       "                        artists  popularity  danceability  energy  song_key  \\\n",
       "song_id                                                                       \n",
       "6KbQ3uYMLKb5jDxLF7wYDD     4880           0         0.708  0.1950        10   \n",
       "6KuQTIu1KoTTkLXKrwlLPV    25162           0         0.379  0.0135         8   \n",
       "6L63VW0PibdM1HDSBoqnoM    26350           0         0.749  0.2200         5   \n",
       "6M94FkXd15sOAOQYRnWPN8     9693           0         0.781  0.1300         1   \n",
       "6N6tiFZ9vLTSOIxkj8qKrd    10245           1         0.210  0.2040        11   \n",
       "\n",
       "                        loudness  song_mode  speechiness  acousticness  \\\n",
       "song_id                                                                  \n",
       "6KbQ3uYMLKb5jDxLF7wYDD   -12.428          1       0.0506         0.995   \n",
       "6KuQTIu1KoTTkLXKrwlLPV   -28.454          1       0.0462         0.994   \n",
       "6L63VW0PibdM1HDSBoqnoM   -19.924          0       0.9290         0.604   \n",
       "6M94FkXd15sOAOQYRnWPN8   -14.734          0       0.0926         0.995   \n",
       "6N6tiFZ9vLTSOIxkj8qKrd   -16.829          1       0.0424         0.990   \n",
       "\n",
       "                        instrumentalness  liveness  valence    tempo  \\\n",
       "song_id                                                                \n",
       "6KbQ3uYMLKb5jDxLF7wYDD             0.563    0.1510   0.7790  118.469   \n",
       "6KuQTIu1KoTTkLXKrwlLPV             0.901    0.0763   0.0767   83.972   \n",
       "6L63VW0PibdM1HDSBoqnoM             0.000    0.1190   0.8800  107.177   \n",
       "6M94FkXd15sOAOQYRnWPN8             0.887    0.1110   0.7200  108.003   \n",
       "6N6tiFZ9vLTSOIxkj8qKrd             0.908    0.0980   0.0693   62.149   \n",
       "\n",
       "                        duration_ms  year  \n",
       "song_id                                    \n",
       "6KbQ3uYMLKb5jDxLF7wYDD       158648  1928  \n",
       "6KuQTIu1KoTTkLXKrwlLPV       282133  1928  \n",
       "6L63VW0PibdM1HDSBoqnoM       104300  1928  \n",
       "6M94FkXd15sOAOQYRnWPN8       180760  1928  \n",
       "6N6tiFZ9vLTSOIxkj8qKrd       687733  1928  "
      ]
     },
     "execution_count": 16,
     "metadata": {},
     "output_type": "execute_result"
    }
   ],
   "source": [
    "X['artists'] = trans_artists\n",
    "X.head()"
   ]
  },
  {
   "cell_type": "code",
   "execution_count": 17,
   "metadata": {
    "colab": {
     "base_uri": "https://localhost:8080/"
    },
    "executionInfo": {
     "elapsed": 1489,
     "status": "ok",
     "timestamp": 1604788443774,
     "user": {
      "displayName": "Jesús Caballero Medrano",
      "photoUrl": "https://lh3.googleusercontent.com/a-/AOh14GgLwxzqHHwii9Oj16H9ZGHE_-QU1ZdrtVqAlqB2Wg=s64",
      "userId": "13015949963564954961"
     },
     "user_tz": 360
    },
    "id": "nwQNuLOJ1qb9",
    "outputId": "be3f6bff-cbf3-4a88-922e-74a192d9cd2d"
   },
   "outputs": [
    {
     "data": {
      "text/plain": [
       "array([[-1.24144044, -1.46213535,  0.96866192, ...,  0.04950012,\n",
       "        -0.59971332, -1.92330144],\n",
       "       [ 0.85347291, -1.46213535, -0.90763624, ..., -1.07319889,\n",
       "         0.41811891, -1.92330144],\n",
       "       [ 0.97618059, -1.46213535,  1.20248631, ..., -0.3179961 ,\n",
       "        -1.04767984, -1.92330144],\n",
       "       ...,\n",
       "       [ 0.00908298,  1.78122556, -0.13772666, ...,  0.21974213,\n",
       "        -0.41794844,  1.67141853],\n",
       "       [-1.22574047,  1.78122556,  0.61507382, ...,  0.4220408 ,\n",
       "        -0.52833277,  1.67141853],\n",
       "       [-0.37969791,  1.54955693, -0.14913272, ..., -1.1833306 ,\n",
       "        -0.13698438,  1.67141853]])"
      ]
     },
     "execution_count": 17,
     "metadata": {},
     "output_type": "execute_result"
    }
   ],
   "source": [
    "# Now I have to normalize the vectors \n",
    "\n",
    "stdscaler = StandardScaler()\n",
    "X_std = stdscaler.fit_transform(X)\n",
    "X_std"
   ]
  },
  {
   "cell_type": "code",
   "execution_count": 18,
   "metadata": {
    "colab": {
     "base_uri": "https://localhost:8080/",
     "height": 279
    },
    "executionInfo": {
     "elapsed": 2015,
     "status": "ok",
     "timestamp": 1604788444303,
     "user": {
      "displayName": "Jesús Caballero Medrano",
      "photoUrl": "https://lh3.googleusercontent.com/a-/AOh14GgLwxzqHHwii9Oj16H9ZGHE_-QU1ZdrtVqAlqB2Wg=s64",
      "userId": "13015949963564954961"
     },
     "user_tz": 360
    },
    "id": "uVWTwOVJ1qcD",
    "outputId": "40788230-c0d5-46c7-eddf-ad757ce08787"
   },
   "outputs": [
    {
     "data": {
      "image/png": "[encoded data removed]",
      "text/plain": [
       "<Figure size 432x288 with 1 Axes>"
      ]
     },
     "metadata": {
      "needs_background": "light"
     },
     "output_type": "display_data"
    }
   ],
   "source": [
    "# I'm running PCA first\n",
    "\n",
    "pca = PCA(n_components=X_std.shape[1])\n",
    "\n",
    "principal_components = pca.fit_transform(X_std)\n",
    "\n",
    "# Plot the explained variances\n",
    "\n",
    "features = range(pca.n_components_)\n",
    "plt.bar(features, pca.explained_variance_ratio_, color='blue')\n",
    "plt.xlabel('PCA features')\n",
    "plt.ylabel('Variance %')\n",
    "plt.xticks(features)\n",
    "\n",
    "# save components to a dataframe\n",
    "\n",
    "PCA_components = pd.DataFrame(principal_components)\n"
   ]
  },
  {
   "cell_type": "code",
   "execution_count": 19,
   "metadata": {
    "colab": {
     "base_uri": "https://localhost:8080/",
     "height": 297
    },
    "executionInfo": {
     "elapsed": 2740,
     "status": "ok",
     "timestamp": 1604788445031,
     "user": {
      "displayName": "Jesús Caballero Medrano",
      "photoUrl": "https://lh3.googleusercontent.com/a-/AOh14GgLwxzqHHwii9Oj16H9ZGHE_-QU1ZdrtVqAlqB2Wg=s64",
      "userId": "13015949963564954961"
     },
     "user_tz": 360
    },
    "id": "2OunajhK1qcI",
    "outputId": "fa324460-ea96-47a7-811f-57e582e6d011"
   },
   "outputs": [
    {
     "data": {
      "text/plain": [
       "Text(0, 0.5, 'PCA 2')"
      ]
     },
     "execution_count": 19,
     "metadata": {},
     "output_type": "execute_result"
    },
    {
     "data": {
      "image/png": "[encoded data removed]",
      "text/plain": [
       "<Figure size 432x288 with 1 Axes>"
      ]
     },
     "metadata": {
      "needs_background": "light"
     },
     "output_type": "display_data"
    }
   ],
   "source": [
    "plt.scatter(PCA_components[0],PCA_components[1], alpha=.1, color='blue')\n",
    "plt.xlabel('PCA 1')\n",
    "plt.ylabel('PCA 2')"
   ]
  },
  {
   "cell_type": "code",
   "execution_count": null,
   "metadata": {
    "colab": {
     "base_uri": "https://localhost:8080/",
     "height": 290
    },
    "executionInfo": {
     "elapsed": 100275,
     "status": "ok",
     "timestamp": 1604788542570,
     "user": {
      "displayName": "Jesús Caballero Medrano",
      "photoUrl": "https://lh3.googleusercontent.com/a-/AOh14GgLwxzqHHwii9Oj16H9ZGHE_-QU1ZdrtVqAlqB2Wg=s64",
      "userId": "13015949963564954961"
     },
     "user_tz": 360
    },
    "id": "3RCfm-t31qcM",
    "outputId": "561d02e9-2334-40fb-e155-3b279eb57c95"
   },
   "outputs": [],
   "source": [
    "# Find the clusters\n",
    "\n",
    "ks = range(1,12)\n",
    "inertias = list()\n",
    "\n",
    "for k in ks:\n",
    "    # Create a KMeans instance with k clusters\n",
    "    model = KMeans(n_clusters = k, random_state=42)\n",
    "    \n",
    "    # Fit model to samples\n",
    "    model.fit(X_std)\n",
    "    \n",
    "    # Append the inertia to the list of inertias\n",
    "    inertias.append(model.inertia_)\n",
    "    \n",
    "# Plot the inertias\n",
    "\n",
    "plt.plot(ks,inertias, '-o', color='blue')\n",
    "plt.xlabel('Number of clusters, k')\n",
    "plt.ylabel('inertia')\n",
    "plt.xticks(ks)\n",
    "plt.show()"
   ]
  },
  {
   "cell_type": "code",
   "execution_count": null,
   "metadata": {
    "colab": {
     "base_uri": "https://localhost:8080/"
    },
    "executionInfo": {
     "elapsed": 100275,
     "status": "ok",
     "timestamp": 1604788542573,
     "user": {
      "displayName": "Jesús Caballero Medrano",
      "photoUrl": "https://lh3.googleusercontent.com/a-/AOh14GgLwxzqHHwii9Oj16H9ZGHE_-QU1ZdrtVqAlqB2Wg=s64",
      "userId": "13015949963564954961"
     },
     "user_tz": 360
    },
    "id": "5tFYZb301qcQ",
    "outputId": "1ed95c29-d78c-4a10-9047-1a438937fe63"
   },
   "outputs": [],
   "source": [
    "kl = KneeLocator(range(1,12),inertias, curve='convex',direction='decreasing')\n",
    "kl.elbow"
   ]
  },
  {
   "cell_type": "code",
   "execution_count": null,
   "metadata": {
    "executionInfo": {
     "elapsed": 100272,
     "status": "ok",
     "timestamp": 1604788542575,
     "user": {
      "displayName": "Jesús Caballero Medrano",
      "photoUrl": "https://lh3.googleusercontent.com/a-/AOh14GgLwxzqHHwii9Oj16H9ZGHE_-QU1ZdrtVqAlqB2Wg=s64",
      "userId": "13015949963564954961"
     },
     "user_tz": 360
    },
    "id": "sKcVCdGD1qcU"
   },
   "outputs": [],
   "source": [
    "# Defining a function that performs the PCA and clustering, due I'm repeting a couple of times.\n",
    "\n",
    "def pca_n_clustering(dataset,columns, index_column,max_n_clusters):\n",
    "    \n",
    "    # Setting the subset I'm working with\n",
    "    X = dataset[columns]\n",
    "    X = X.set_index(dataset[index_column])\n",
    "    \n",
    "\n",
    "    # Standarizing the data\n",
    "    stdscaler = StandardScaler()\n",
    "    X_std = stdscaler.fit_transform(X)\n",
    "    \n",
    "    # PCA\n",
    "    pca = PCA(n_components=X_std.shape[1])\n",
    "\n",
    "    principal_components = pca.fit_transform(X_std)\n",
    "\n",
    "    # Plot the explained variances\n",
    "\n",
    "    features = range(pca.n_components_)\n",
    "       \n",
    "    plt.bar(features, pca.explained_variance_ratio_, color='blue')\n",
    "    plt.xlabel('PCA features')\n",
    "    plt.ylabel('Variance %')\n",
    "    plt.xticks(features)\n",
    "\n",
    "    # Save components to a dataframe\n",
    "\n",
    "    PCA_components = pd.DataFrame(principal_components)\n",
    "    \n",
    "    # Plot\n",
    "#     plt.scatter(PCA_components[0],PCA_components[1], alpha=.1, color='blue')\n",
    "#     plt.xlabel('PCA 1')\n",
    "#     plt.ylabel('PCA 2')\n",
    "    \n",
    "    # Elbow test\n",
    "    \n",
    "    ks = range(1,max_n_clusters)\n",
    "    inertias = list()\n",
    "\n",
    "    for k in ks:\n",
    "        # Create a KMeans instance with k clusters\n",
    "        model = KMeans(n_clusters = k, random_state=42)\n",
    "\n",
    "        # Fit model to samples\n",
    "        model.fit(X_std)\n",
    "\n",
    "        # Append the inertia to the list of inertias\n",
    "        inertias.append(model.inertia_)\n",
    "\n",
    "#     Plot the inertias\n",
    "\n",
    "    plt.plot(ks,inertias, '-o', color='blue')\n",
    "    plt.xlabel('Number of clusters, k')\n",
    "    plt.ylabel('inertia')\n",
    "    plt.xticks(ks)\n",
    "    plt.show()\n",
    "    \n",
    "    kl = KneeLocator(range(1,max_n_clusters),inertias, curve='convex',direction='decreasing')\n",
    "    print('Suggested number of clusters:',kl.elbow)\n",
    "    return X_std, le, stdscaler"
   ]
  },
  {
   "cell_type": "code",
   "execution_count": null,
   "metadata": {
    "colab": {
     "base_uri": "https://localhost:8080/",
     "height": 547
    },
    "executionInfo": {
     "elapsed": 198623,
     "status": "ok",
     "timestamp": 1604788640929,
     "user": {
      "displayName": "Jesús Caballero Medrano",
      "photoUrl": "https://lh3.googleusercontent.com/a-/AOh14GgLwxzqHHwii9Oj16H9ZGHE_-QU1ZdrtVqAlqB2Wg=s64",
      "userId": "13015949963564954961"
     },
     "user_tz": 360
    },
    "id": "Skwqs2_o1qcY",
    "outputId": "43d3beee-d09e-46eb-8835-a342f3edb55a"
   },
   "outputs": [],
   "source": [
    "X_std, le, stdscaler = pca_n_clustering(kaggle,['coded_artists', 'popularity', 'danceability', 'energy', 'song_key', 'loudness', 'song_mode',\n",
    "       'speechiness', 'acousticness', 'instrumentalness', 'liveness','valence', 'tempo', 'duration_ms', 'year'], 'song_id', 12)"
   ]
  },
  {
   "cell_type": "code",
   "execution_count": null,
   "metadata": {
    "colab": {
     "base_uri": "https://localhost:8080/"
    },
    "executionInfo": {
     "elapsed": 204031,
     "status": "ok",
     "timestamp": 1604788646340,
     "user": {
      "displayName": "Jesús Caballero Medrano",
      "photoUrl": "https://lh3.googleusercontent.com/a-/AOh14GgLwxzqHHwii9Oj16H9ZGHE_-QU1ZdrtVqAlqB2Wg=s64",
      "userId": "13015949963564954961"
     },
     "user_tz": 360
    },
    "id": "Hh38g4sw1qcc",
    "outputId": "526b4290-f171-4b6f-e5f2-ea3224b6d865"
   },
   "outputs": [],
   "source": [
    "# I'm going with 4 clusters in a initial stage\n",
    "\n",
    "\n",
    "# Create a KMeans instance with k clusters\n",
    "model = KMeans(n_clusters = 4, random_state=42)\n",
    "\n",
    "# Fit model to samples\n",
    "model.fit_predict(X_std)\n",
    "\n",
    "centers = model.cluster_centers_\n",
    "\n",
    "labels = model.labels_\n",
    "\n",
    "labels"
   ]
  },
  {
   "cell_type": "code",
   "execution_count": null,
   "metadata": {},
   "outputs": [],
   "source": [
    "# joblib.dump(model, 'modelpckl.pkl')\n",
    "# joblib.dump(stdscaler, 'stdscalerpckl.pkl')"
   ]
  },
  {
   "cell_type": "code",
   "execution_count": null,
   "metadata": {
    "colab": {
     "base_uri": "https://localhost:8080/",
     "height": 436
    },
    "executionInfo": {
     "elapsed": 204032,
     "status": "ok",
     "timestamp": 1604788646344,
     "user": {
      "displayName": "Jesús Caballero Medrano",
      "photoUrl": "https://lh3.googleusercontent.com/a-/AOh14GgLwxzqHHwii9Oj16H9ZGHE_-QU1ZdrtVqAlqB2Wg=s64",
      "userId": "13015949963564954961"
     },
     "user_tz": 360
    },
    "id": "BfdPwrq41qch",
    "outputId": "cb726a8b-8877-4268-cd3e-546150fc7c1b"
   },
   "outputs": [],
   "source": [
    "\n",
    "kaggle['cluster'] = labels\n",
    "display(kaggle.head())\n",
    "kaggle.shape"
   ]
  },
  {
   "cell_type": "code",
   "execution_count": null,
   "metadata": {
    "colab": {
     "base_uri": "https://localhost:8080/"
    },
    "executionInfo": {
     "elapsed": 204030,
     "status": "ok",
     "timestamp": 1604788646345,
     "user": {
      "displayName": "Jesús Caballero Medrano",
      "photoUrl": "https://lh3.googleusercontent.com/a-/AOh14GgLwxzqHHwii9Oj16H9ZGHE_-QU1ZdrtVqAlqB2Wg=s64",
      "userId": "13015949963564954961"
     },
     "user_tz": 360
    },
    "id": "6pCJUDty1qcl",
    "outputId": "be764af8-d601-4721-e031-d76dd0eff0fc"
   },
   "outputs": [],
   "source": [
    "\n",
    "\n",
    "cluster_0 =  kaggle[kaggle['cluster'] == 0]\n",
    "cluster_1 = kaggle[kaggle['cluster'] == 1]\n",
    "cluster_2 = kaggle[kaggle['cluster'] == 2]\n",
    "cluster_3 = kaggle[kaggle['cluster'] == 3]\n",
    "\n",
    "print(cluster_0.shape)\n",
    "print(cluster_1.shape)\n",
    "print(cluster_2.shape)\n",
    "print(cluster_3.shape)\n"
   ]
  },
  {
   "cell_type": "code",
   "execution_count": null,
   "metadata": {
    "executionInfo": {
     "elapsed": 204030,
     "status": "ok",
     "timestamp": 1604788646347,
     "user": {
      "displayName": "Jesús Caballero Medrano",
      "photoUrl": "https://lh3.googleusercontent.com/a-/AOh14GgLwxzqHHwii9Oj16H9ZGHE_-QU1ZdrtVqAlqB2Wg=s64",
      "userId": "13015949963564954961"
     },
     "user_tz": 360
    },
    "id": "UGLbaymK1qcp"
   },
   "outputs": [],
   "source": [
    "# # building a dictionary to store the dataframes\n",
    "\n",
    "# clustering_dict = {}\n"
   ]
  },
  {
   "cell_type": "code",
   "execution_count": null,
   "metadata": {
    "executionInfo": {
     "elapsed": 204031,
     "status": "ok",
     "timestamp": 1604788646350,
     "user": {
      "displayName": "Jesús Caballero Medrano",
      "photoUrl": "https://lh3.googleusercontent.com/a-/AOh14GgLwxzqHHwii9Oj16H9ZGHE_-QU1ZdrtVqAlqB2Wg=s64",
      "userId": "13015949963564954961"
     },
     "user_tz": 360
    },
    "id": "wGqT26vy1qct"
   },
   "outputs": [],
   "source": [
    "# # Define a function that splits the dataframe, according to the subclusters\n",
    "\n",
    "# def split_dfs(df,k,labels_list,centroids_list,dict_to_use):\n",
    "    \n",
    "#     temp_df = df.copy()\n",
    "#     temp_df['cluster'] = labels_list\n",
    "\n",
    "#     kaggle_groups = temp_df.groupby(['cluster'])\n",
    "        \n",
    "#     dict_to_use['centroids'] = centroids_list\n",
    "        \n",
    "#     for i in range(k):\n",
    "\n",
    "#         if i not in dict_to_use:\n",
    "\n",
    "#             dict_to_use[i] = {'main':None,'subclusters': dict()}\n",
    "#         dict_to_use[i]['main'] = kaggle_groups.get_group((i))\n",
    "\n"
   ]
  },
  {
   "cell_type": "code",
   "execution_count": null,
   "metadata": {
    "colab": {
     "base_uri": "https://localhost:8080/",
     "height": 808
    },
    "executionInfo": {
     "elapsed": 204208,
     "status": "ok",
     "timestamp": 1604788646530,
     "user": {
      "displayName": "Jesús Caballero Medrano",
      "photoUrl": "https://lh3.googleusercontent.com/a-/AOh14GgLwxzqHHwii9Oj16H9ZGHE_-QU1ZdrtVqAlqB2Wg=s64",
      "userId": "13015949963564954961"
     },
     "user_tz": 360
    },
    "id": "D84mlyKC1qcx",
    "outputId": "3a618c28-c564-4652-bab2-94ba92137f80"
   },
   "outputs": [],
   "source": [
    "# split_dfs(kaggle,4,labels,centers,clustering_dict)\n",
    "# clustering_dict[0]['main']"
   ]
  },
  {
   "cell_type": "code",
   "execution_count": null,
   "metadata": {
    "colab": {
     "base_uri": "https://localhost:8080/",
     "height": 299
    },
    "executionInfo": {
     "elapsed": 207781,
     "status": "ok",
     "timestamp": 1604788650106,
     "user": {
      "displayName": "Jesús Caballero Medrano",
      "photoUrl": "https://lh3.googleusercontent.com/a-/AOh14GgLwxzqHHwii9Oj16H9ZGHE_-QU1ZdrtVqAlqB2Wg=s64",
      "userId": "13015949963564954961"
     },
     "user_tz": 360
    },
    "id": "Stl8aYoB1qc1",
    "outputId": "0f2c5c2b-32c9-46a8-d831-b933dcf6463a"
   },
   "outputs": [],
   "source": [
    "# For cluster 0:\n",
    "\n",
    "X_std_0, le_0, stdscaler_0 = pca_n_clustering(cluster_0,['coded_artists', 'popularity', 'danceability', 'energy', 'song_key', 'loudness', 'song_mode',\n",
    "       'speechiness', 'acousticness', 'instrumentalness', 'liveness','valence', 'tempo', 'duration_ms', 'year'], 'song_id', 12)"
   ]
  },
  {
   "cell_type": "code",
   "execution_count": null,
   "metadata": {
    "colab": {
     "base_uri": "https://localhost:8080/"
    },
    "executionInfo": {
     "elapsed": 207780,
     "status": "ok",
     "timestamp": 1604788650109,
     "user": {
      "displayName": "Jesús Caballero Medrano",
      "photoUrl": "https://lh3.googleusercontent.com/a-/AOh14GgLwxzqHHwii9Oj16H9ZGHE_-QU1ZdrtVqAlqB2Wg=s64",
      "userId": "13015949963564954961"
     },
     "user_tz": 360
    },
    "id": "hio9GyfS1qc4",
    "outputId": "0e61bbb9-0ef3-482a-e2d4-e5ef17477773"
   },
   "outputs": [],
   "source": [
    "#Create a KMeans instance with k clusters\n",
    "model_0 = KMeans(n_clusters = 4, random_state=42)\n",
    "\n",
    "# Fit model to samples\n",
    "model_0.fit_predict(X_std_0)\n",
    "\n",
    "centers_0 = model_0.cluster_centers_\n",
    "\n",
    "labels_0 = model_0.labels_\n",
    "\n",
    "kaggle.loc[kaggle[kaggle['cluster'] == 0].index,'subcluster'] = labels_0\n",
    "\n",
    "# deprecating\n",
    "# split_dfs(clustering_dict[0]['main'],4,labels_0,centers_0,clustering_dict[0]['subclusters'])\n",
    "\n",
    "print(kaggle[(kaggle['cluster'] == 0) & (kaggle['subcluster'] == 0)].shape)\n",
    "print(kaggle[(kaggle['cluster'] == 0) & (kaggle['subcluster'] == 1)].shape)\n",
    "print(kaggle[(kaggle['cluster'] == 0) & (kaggle['subcluster'] == 2)].shape)\n",
    "print(kaggle[(kaggle['cluster'] == 0) & (kaggle['subcluster'] == 3)].shape)\n"
   ]
  },
  {
   "cell_type": "code",
   "execution_count": null,
   "metadata": {},
   "outputs": [],
   "source": [
    "# joblib.dump(model_0, 'modelpckl_0.pkl')\n",
    "# joblib.dump(stdscaler_0, 'stdscalerpckl_0.pkl')"
   ]
  },
  {
   "cell_type": "code",
   "execution_count": null,
   "metadata": {
    "colab": {
     "base_uri": "https://localhost:8080/",
     "height": 299
    },
    "executionInfo": {
     "elapsed": 225965,
     "status": "ok",
     "timestamp": 1604788668297,
     "user": {
      "displayName": "Jesús Caballero Medrano",
      "photoUrl": "https://lh3.googleusercontent.com/a-/AOh14GgLwxzqHHwii9Oj16H9ZGHE_-QU1ZdrtVqAlqB2Wg=s64",
      "userId": "13015949963564954961"
     },
     "user_tz": 360
    },
    "id": "za-F92qx1qc9",
    "outputId": "d0a55f22-51f8-487d-9bbf-9afe1e3d81a5"
   },
   "outputs": [],
   "source": [
    "# For cluster 1:\n",
    "\n",
    "X_std_1, le_1, stdscaler_1 = pca_n_clustering(cluster_1,['coded_artists', 'popularity', 'danceability', 'energy', 'song_key', 'loudness', 'song_mode',\n",
    "       'speechiness', 'acousticness', 'instrumentalness', 'liveness','valence', 'tempo', 'duration_ms', 'year'], 'song_id', 12)"
   ]
  },
  {
   "cell_type": "code",
   "execution_count": null,
   "metadata": {
    "colab": {
     "base_uri": "https://localhost:8080/"
    },
    "executionInfo": {
     "elapsed": 227598,
     "status": "ok",
     "timestamp": 1604788669934,
     "user": {
      "displayName": "Jesús Caballero Medrano",
      "photoUrl": "https://lh3.googleusercontent.com/a-/AOh14GgLwxzqHHwii9Oj16H9ZGHE_-QU1ZdrtVqAlqB2Wg=s64",
      "userId": "13015949963564954961"
     },
     "user_tz": 360
    },
    "id": "3oUzASKa1qdA",
    "outputId": "361ae7b8-4bc4-4634-d89e-73e328ac4bc4"
   },
   "outputs": [],
   "source": [
    "#Create a KMeans instance with k clusters\n",
    "model_1 = KMeans(n_clusters = 4, random_state=42)\n",
    "\n",
    "# Fit model to samples\n",
    "model_1.fit_predict(X_std_1)\n",
    "\n",
    "centers_1 = model_1.cluster_centers_\n",
    "\n",
    "labels_1 = model_1.labels_\n",
    "\n",
    "kaggle.loc[kaggle[kaggle['cluster'] == 1].index,'subcluster'] = labels_1\n",
    "\n",
    "# deprecating\n",
    "# split_dfs(clustering_dict[1]['main'],4,labels_1,centers_1,clustering_dict[1]['subclusters'])\n",
    "\n",
    "print(kaggle[(kaggle['cluster'] == 1) & (kaggle['subcluster'] == 0)].shape)\n",
    "print(kaggle[(kaggle['cluster'] == 1) & (kaggle['subcluster'] == 1)].shape)\n",
    "print(kaggle[(kaggle['cluster'] == 1) & (kaggle['subcluster'] == 2)].shape)\n",
    "print(kaggle[(kaggle['cluster'] == 1) & (kaggle['subcluster'] == 3)].shape)\n"
   ]
  },
  {
   "cell_type": "code",
   "execution_count": null,
   "metadata": {},
   "outputs": [],
   "source": [
    "# joblib.dump(model_1, 'modelpckl_1.pkl')\n",
    "# joblib.dump(stdscaler_1, 'stdscalerpckl_1.pkl')"
   ]
  },
  {
   "cell_type": "code",
   "execution_count": null,
   "metadata": {},
   "outputs": [],
   "source": [
    "kaggle.head()"
   ]
  },
  {
   "cell_type": "code",
   "execution_count": null,
   "metadata": {
    "colab": {
     "base_uri": "https://localhost:8080/",
     "height": 297
    },
    "executionInfo": {
     "elapsed": 256267,
     "status": "ok",
     "timestamp": 1604788698605,
     "user": {
      "displayName": "Jesús Caballero Medrano",
      "photoUrl": "https://lh3.googleusercontent.com/a-/AOh14GgLwxzqHHwii9Oj16H9ZGHE_-QU1ZdrtVqAlqB2Wg=s64",
      "userId": "13015949963564954961"
     },
     "user_tz": 360
    },
    "id": "WY-SIBDm1qdD",
    "outputId": "db44a119-69de-47c9-8542-41352ce97709"
   },
   "outputs": [],
   "source": [
    "# For cluster 2:\n",
    "\n",
    "X_std_2, le_2, stdscaler_2 = pca_n_clustering(cluster_2,['coded_artists', 'popularity', 'danceability', 'energy', 'song_key', 'loudness', 'song_mode',\n",
    "       'speechiness', 'acousticness', 'instrumentalness', 'liveness','valence', 'tempo', 'duration_ms', 'year'], 'song_id', 12)"
   ]
  },
  {
   "cell_type": "code",
   "execution_count": null,
   "metadata": {
    "colab": {
     "base_uri": "https://localhost:8080/"
    },
    "executionInfo": {
     "elapsed": 259065,
     "status": "ok",
     "timestamp": 1604788701406,
     "user": {
      "displayName": "Jesús Caballero Medrano",
      "photoUrl": "https://lh3.googleusercontent.com/a-/AOh14GgLwxzqHHwii9Oj16H9ZGHE_-QU1ZdrtVqAlqB2Wg=s64",
      "userId": "13015949963564954961"
     },
     "user_tz": 360
    },
    "id": "E6Qbod561qdH",
    "outputId": "3a4ba7ff-7b93-44bd-a3f6-83d7a69f5bd6"
   },
   "outputs": [],
   "source": [
    "#Create a KMeans instance with k clusters\n",
    "model_2 = KMeans(n_clusters = 4, random_state=42)\n",
    "\n",
    "# Fit model to samples\n",
    "model_2.fit_predict(X_std_2)\n",
    "\n",
    "centers_2 = model_2.cluster_centers_\n",
    "\n",
    "labels_2 = model_2.labels_\n",
    "\n",
    "kaggle.loc[kaggle[kaggle['cluster'] == 2].index,'subcluster'] = labels_2\n",
    "\n",
    "# deprecating\n",
    "# split_dfs(clustering_dict[2]['main'],4,labels_2,centers_2,clustering_dict[2]['subclusters'])\n",
    "\n",
    "print(kaggle[(kaggle['cluster'] == 2) & (kaggle['subcluster'] == 0)].shape)\n",
    "print(kaggle[(kaggle['cluster'] == 2) & (kaggle['subcluster'] == 1)].shape)\n",
    "print(kaggle[(kaggle['cluster'] == 2) & (kaggle['subcluster'] == 2)].shape)\n",
    "print(kaggle[(kaggle['cluster'] == 2) & (kaggle['subcluster'] == 3)].shape)"
   ]
  },
  {
   "cell_type": "code",
   "execution_count": null,
   "metadata": {},
   "outputs": [],
   "source": [
    "# joblib.dump(model_2, 'modelpckl_2.pkl')\n",
    "# joblib.dump(stdscaler_2, 'stdscalerpckl_2.pkl')"
   ]
  },
  {
   "cell_type": "code",
   "execution_count": null,
   "metadata": {
    "colab": {
     "base_uri": "https://localhost:8080/",
     "height": 308
    },
    "executionInfo": {
     "elapsed": 321977,
     "status": "ok",
     "timestamp": 1604788764322,
     "user": {
      "displayName": "Jesús Caballero Medrano",
      "photoUrl": "https://lh3.googleusercontent.com/a-/AOh14GgLwxzqHHwii9Oj16H9ZGHE_-QU1ZdrtVqAlqB2Wg=s64",
      "userId": "13015949963564954961"
     },
     "user_tz": 360
    },
    "id": "ZBkSV0qn1qdK",
    "outputId": "4d1ef652-7a9c-4e04-b0b0-5b854ce41c27"
   },
   "outputs": [],
   "source": [
    "# For cluster 3:\n",
    "X_std_3, le_3, stdscaler_3 = pca_n_clustering(cluster_3,['coded_artists', 'popularity', 'danceability', 'energy', 'song_key', 'loudness', 'song_mode',\n",
    "       'speechiness', 'acousticness', 'instrumentalness', 'liveness','valence', 'tempo', 'duration_ms', 'year'], 'song_id', 12)"
   ]
  },
  {
   "cell_type": "code",
   "execution_count": null,
   "metadata": {
    "colab": {
     "base_uri": "https://localhost:8080/"
    },
    "executionInfo": {
     "elapsed": 326397,
     "status": "ok",
     "timestamp": 1604788768744,
     "user": {
      "displayName": "Jesús Caballero Medrano",
      "photoUrl": "https://lh3.googleusercontent.com/a-/AOh14GgLwxzqHHwii9Oj16H9ZGHE_-QU1ZdrtVqAlqB2Wg=s64",
      "userId": "13015949963564954961"
     },
     "user_tz": 360
    },
    "id": "kwqMH5ep1qdN",
    "outputId": "28cd79c8-e66c-4878-fc57-862431eb946c"
   },
   "outputs": [],
   "source": [
    "#Create a KMeans instance with k clusters\n",
    "model_3 = KMeans(n_clusters = 5, random_state=42)\n",
    "\n",
    "# Fit model to samples\n",
    "model_3.fit_predict(X_std_3)\n",
    "\n",
    "centers_3 = model_3.cluster_centers_\n",
    "\n",
    "labels_3 = model_3.labels_\n",
    "\n",
    "kaggle.loc[kaggle[kaggle['cluster'] == 3].index,'subcluster'] = labels_3\n",
    "\n",
    "# deprecating\n",
    "# split_dfs(clustering_dict[3]['main'],5,labels_3,centers_3,clustering_dict[3]['subclusters'])\n",
    "\n",
    "print(kaggle[(kaggle['cluster'] == 3) & (kaggle['subcluster'] == 0)].shape)\n",
    "print(kaggle[(kaggle['cluster'] == 3) & (kaggle['subcluster'] == 1)].shape)\n",
    "print(kaggle[(kaggle['cluster'] == 3) & (kaggle['subcluster'] == 2)].shape)\n",
    "print(kaggle[(kaggle['cluster'] == 3) & (kaggle['subcluster'] == 3)].shape)\n",
    "print(kaggle[(kaggle['cluster'] == 3) & (kaggle['subcluster'] == 4)].shape)"
   ]
  },
  {
   "cell_type": "code",
   "execution_count": null,
   "metadata": {},
   "outputs": [],
   "source": [
    "# joblib.dump(model_3, 'modelpckl_3.pkl')\n",
    "# joblib.dump(stdscaler_3, 'stdscalerpckl_3.pkl')"
   ]
  },
  {
   "cell_type": "code",
   "execution_count": null,
   "metadata": {
    "executionInfo": {
     "elapsed": 326397,
     "status": "ok",
     "timestamp": 1604788768747,
     "user": {
      "displayName": "Jesús Caballero Medrano",
      "photoUrl": "https://lh3.googleusercontent.com/a-/AOh14GgLwxzqHHwii9Oj16H9ZGHE_-QU1ZdrtVqAlqB2Wg=s64",
      "userId": "13015949963564954961"
     },
     "user_tz": 360
    },
    "id": "u-ezDp4a1qdR"
   },
   "outputs": [],
   "source": [
    "# Build the similarity dictionary\n",
    "\n",
    "similarity_dict = {}"
   ]
  },
  {
   "cell_type": "code",
   "execution_count": null,
   "metadata": {
    "colab": {
     "base_uri": "https://localhost:8080/"
    },
    "id": "eHg5vIui1qdU",
    "outputId": "033b4711-d02c-4731-8103-d8d6edb21bdf"
   },
   "outputs": [],
   "source": [
    "# Now I have to measure similarities within subclusters.\n",
    "\n",
    "limit = 4\n",
    "\n",
    "for l in range(4):\n",
    "    \n",
    "    print('starting with:', l)\n",
    "    \n",
    "    if l == 3:\n",
    "        \n",
    "        limit = 5\n",
    "    \n",
    "    for m in range(limit):\n",
    "\n",
    "        print('starting with:', m, 'of', l)\n",
    "        \n",
    "        demo = kaggle[(kaggle['cluster'] == l) & (kaggle['subcluster'] == m)][['coded_artists','popularity','danceability', 'energy', 'song_key', 'loudness', 'song_mode','speechiness', 'acousticness', 'instrumentalness', 'liveness','valence', 'tempo', 'duration_ms', 'year']]\n",
    "  \n",
    "        # Standarizing the data\n",
    "        temp_stdscaler = StandardScaler()\n",
    "        demo_std = temp_stdscaler.fit_transform(demo)\n",
    "\n",
    "        demo_std = demo_std / np.linalg.norm(demo_std,axis=1, keepdims=True)\n",
    "\n",
    "\n",
    "        similarities_array = np.around(demo_std.dot(np.transpose(demo_std)),4)\n",
    "\n",
    "        song_id_list = list(kaggle[(kaggle['cluster'] == l) & (kaggle['subcluster'] == m)]['song_id'])\n",
    "\n",
    "        for i, song_id in enumerate(song_id_list):\n",
    "\n",
    "            if song_id not in similarity_dict:\n",
    "\n",
    "                similarity_dict[song_id] = {}\n",
    "\n",
    "            for j, similarity in enumerate(similarities_array[i]):\n",
    "\n",
    "                if similarity >= 0.75:\n",
    "\n",
    "                    if similarity not in similarity_dict[song_id]:\n",
    "\n",
    "                        similarity_dict[song_id][similarity] = []\n",
    "\n",
    "                    if song_id != song_id_list[j]:\n",
    "                        \n",
    "                        similarity_dict[song_id][similarity].append(song_id_list[j])\n",
    "\n",
    "    print('finishing with:', l)\n",
    "\n",
    "print(len(similarity_dict.keys()))"
   ]
  },
  {
   "cell_type": "code",
   "execution_count": null,
   "metadata": {},
   "outputs": [],
   "source": [
    "# similarity_dict"
   ]
  },
  {
   "cell_type": "code",
   "execution_count": null,
   "metadata": {
    "id": "iwyzy3Ts1qdY"
   },
   "outputs": [],
   "source": [
    "similarity_dict['5QrNXvTQEuBb5iLoIAAuvk'].keys()"
   ]
  },
  {
   "cell_type": "code",
   "execution_count": null,
   "metadata": {
    "id": "TcVk90iT1qde"
   },
   "outputs": [],
   "source": [
    "similarities_list = []\n",
    "missing_similarities = []\n",
    "\n",
    "for song_id in kaggle['song_id']:\n",
    "    \n",
    "    try:\n",
    "        \n",
    "        similarities_list.append(similarity_dict[song_id])\n",
    "        \n",
    "    except:\n",
    "        \n",
    "        similarities_list.append([])\n",
    "        missing_similarities.append(song_id)\n",
    "\n",
    "len(missing_similarities)"
   ]
  },
  {
   "cell_type": "code",
   "execution_count": null,
   "metadata": {
    "id": "LS3jR3Xm1qdi"
   },
   "outputs": [],
   "source": [
    "# something I must take care, are these songs with no similar songs found.\n",
    "missing_similarities[:10]"
   ]
  },
  {
   "cell_type": "code",
   "execution_count": null,
   "metadata": {
    "id": "P5KnpkJ01qdw"
   },
   "outputs": [],
   "source": [
    "kaggle['similar_songs'] = similarities_list\n",
    "\n",
    "kaggle.head()"
   ]
  },
  {
   "cell_type": "code",
   "execution_count": null,
   "metadata": {
    "id": "vuu1nJ9Y1qdz"
   },
   "outputs": [],
   "source": [
    "# How the recomendations would be sorted?\n",
    "\n",
    "# Take this song as an example: 0NlGoUyOJSuSHmngoibVAs\n",
    "\n",
    "song_looking_for_recommendations = '1SGYSOwGX3PPkJc5ihY2zp'\n",
    "\n",
    "recommended_songs = []\n",
    "\n",
    "for list_of_similar in sorted(similarity_dict[song_looking_for_recommendations].keys(), reverse=True)[:11]:\n",
    "    \n",
    "    if list_of_similar:\n",
    "        \n",
    "        recommended_songs += similarity_dict[song_looking_for_recommendations][list_of_similar]\n",
    "\n",
    "recommended_songs"
   ]
  },
  {
   "cell_type": "code",
   "execution_count": null,
   "metadata": {
    "id": "WIm1_v3Q1qd9"
   },
   "outputs": [],
   "source": [
    "# dropping the df to csv to insert it to the db.\n",
    "# kaggle.to_csv('kaggle_with_recommendations.csv',index=False)"
   ]
  },
  {
   "cell_type": "code",
   "execution_count": null,
   "metadata": {},
   "outputs": [],
   "source": [
    "# spotify:track:0HPD5WQqrq7wPWR7P7Dw1i\n",
    "# spotify:track:4IHiN5A0ythEPmWIKSc7gc\n",
    "# spotify:track:4lJNen4SMTIJMahALc3DcB"
   ]
  },
  {
   "cell_type": "code",
   "execution_count": null,
   "metadata": {
    "id": "Y6l2RZ0L1qeA"
   },
   "outputs": [],
   "source": [
    "# Now, what should happend when a foreign song to the db comes through, like the song 2PiJrF9Z90OdmTtbbnV2mI.\n",
    "\n",
    "if not '2PiJrF9Z90OdmTtbbnV2mI' in similarity_dict:\n",
    "    \n",
    "    print('The song 2PiJrF9Z90OdmTtbbnV2mI is not in the db.')\n",
    "\n"
   ]
  },
  {
   "cell_type": "code",
   "execution_count": null,
   "metadata": {
    "id": "PC76wxmB1qeD"
   },
   "outputs": [],
   "source": [
    "# With the Spotify API we can get the song features\n",
    "\n",
    "new_song_id = '1yoMvmasuxZfqHEipJhRbp'\n",
    "\n",
    "new_song_features = sp.audio_features(new_song_id)[0]\n",
    "new_song_other_features = sp.track(new_song_id)\n",
    "# print(new_song_features.keys())\n",
    "# print(new_song_other_features.keys())\n",
    "\n",
    "new_song_tf = [new_song_other_features['popularity'],new_song_features['danceability'], new_song_features['energy'], new_song_features['key'], new_song_features['loudness'], new_song_features['mode'],new_song_features['speechiness'], new_song_features['acousticness'], new_song_features['instrumentalness'], new_song_features['liveness'],new_song_features['valence'], new_song_features['tempo'], new_song_features['duration_ms'], int(new_song_other_features['album']['release_date'][:4])]\n",
    "\n",
    "#### Important: Need to rethink how to handle songs with more than one artist.\n",
    "\n",
    "new_song_tf = [le.transform([new_song_other_features['artists'][0]['name']])] + new_song_tf\n",
    "# new_song_tf = [artist_code] + new_song_tf\n",
    "\n",
    "new_song_tf"
   ]
  },
  {
   "cell_type": "code",
   "execution_count": null,
   "metadata": {},
   "outputs": [],
   "source": [
    "# First, we have to \"prepare\" the vector to see in which cluster could be located.\n",
    "new_song_tf_0 = stdscaler.transform(np.array(new_song_tf).reshape(1,-1))"
   ]
  },
  {
   "cell_type": "code",
   "execution_count": null,
   "metadata": {},
   "outputs": [],
   "source": [
    "# In what cluster could be located?\n",
    "model.predict(np.array(new_song_tf_0).reshape(1,-1))"
   ]
  },
  {
   "cell_type": "code",
   "execution_count": null,
   "metadata": {},
   "outputs": [],
   "source": [
    "# Now we \"prepare\" the vector acording to the corresponding cluster scaler.\n",
    "\n",
    "### Important, not forget to choose the correct scaler\n",
    "\n",
    "new_song_tf_1 = stdscaler_3.transform(np.array(new_song_tf).reshape(1,-1))"
   ]
  },
  {
   "cell_type": "code",
   "execution_count": null,
   "metadata": {},
   "outputs": [],
   "source": [
    "# In what subcluster could be located?\n",
    "\n",
    "### Important, not forget to choose the correct model\n",
    "\n",
    "model_3.predict(np.array(new_song_tf_1).reshape(1,-1))\n"
   ]
  },
  {
   "cell_type": "code",
   "execution_count": null,
   "metadata": {},
   "outputs": [],
   "source": [
    "# The song's most closet song are: clustering_dict[?]['subclusters'][?]['main']\n",
    "\n",
    "# So let's find the similarities.\n",
    "\n",
    "# We have to scale and normalize the subset\n",
    "\n",
    "comparing_data = kaggle[(kaggle['cluster'] == 3) & (kaggle['subcluster'] == 2)][['coded_artists','popularity','danceability', 'energy', 'song_key', 'loudness', 'song_mode','speechiness', 'acousticness', 'instrumentalness', 'liveness','valence', 'tempo', 'duration_ms', 'year']]\n",
    "comparing_data = stdscaler_3.transform(comparing_data)\n",
    "comparing_data = comparing_data / np.linalg.norm(comparing_data,axis=1, keepdims=True)\n",
    "comparing_data"
   ]
  },
  {
   "cell_type": "code",
   "execution_count": null,
   "metadata": {},
   "outputs": [],
   "source": [
    "# Once we know in what subcluster we are, we have to scale the vector\n",
    "# according to the subcluster, and normalize\n",
    "\n",
    "### Important, not forget to choose the correct scaler\n",
    "\n",
    "new_song_tf =  stdscaler_3.transform(np.array(new_song_tf).reshape(1,-1))\n",
    "new_song_tf = new_song_tf / np.linalg.norm(new_song_tf,axis=1, keepdims=True)\n",
    "new_song_tf"
   ]
  },
  {
   "cell_type": "code",
   "execution_count": null,
   "metadata": {},
   "outputs": [],
   "source": [
    "# Use cosine length to search for similar songs and their similarities\n",
    "\n",
    "new_similarities = comparing_data.dot(new_song_tf.T)\n",
    "\n",
    "new_similarities = [round(arr[0],4) for arr in new_similarities]\n",
    "\n",
    "new_similarities[:10]"
   ]
  },
  {
   "cell_type": "code",
   "execution_count": null,
   "metadata": {},
   "outputs": [],
   "source": [
    "len(new_similarities)"
   ]
  },
  {
   "cell_type": "code",
   "execution_count": null,
   "metadata": {},
   "outputs": [],
   "source": [
    "similar_songs_new_song = {}\n",
    "\n",
    "for i, song_id in enumerate(kaggle[(kaggle['cluster'] == 3) & (kaggle['subcluster'] == 2)]['song_id']):\n",
    "    \n",
    "    if song_id != new_song_id:\n",
    "    \n",
    "        if new_similarities[i] >= 0.75:\n",
    "            \n",
    "            if new_similarities[i] not in similar_songs_new_song:\n",
    "                \n",
    "                similar_songs_new_song[new_similarities[i]] = []\n",
    "            similar_songs_new_song[new_similarities[i]].append(song_id)\n",
    "\n",
    "len(similar_songs_new_song.keys())"
   ]
  },
  {
   "cell_type": "code",
   "execution_count": null,
   "metadata": {},
   "outputs": [],
   "source": [
    "recommended_songs = []\n",
    "\n",
    "for list_of_similar in sorted(similar_songs_new_song.keys(), reverse=True)[:11]:\n",
    "    \n",
    "    if list_of_similar:\n",
    "        \n",
    "        recommended_songs += similar_songs_new_song[list_of_similar]\n",
    "\n",
    "recommended_songs"
   ]
  },
  {
   "cell_type": "code",
   "execution_count": null,
   "metadata": {},
   "outputs": [],
   "source": [
    "# turning all these last steps into a function\n",
    "\n",
    "def finding_similar_song_for_new(df,song_id,escaler,cluster_model,new_scalers_list,subcluster_models_list):\n",
    "    \n",
    "    # first verify if it is not in the db already.\n",
    "    \n",
    "    # If true, pull the similar songs already in the db.\n",
    "    \n",
    "    if not df[df['song_id'] == song_id].index.empty:\n",
    "               \n",
    "        return df[df['song_id'] == song_id]['similar_songs'].values[0]\n",
    "    \n",
    "    # otherwise, Pull the other features from the API\n",
    "    \n",
    "    else:\n",
    "        \n",
    "        other_features = sp.track(song_id)\n",
    "        \n",
    "        # Build the string-list of artists of the song.\n",
    "        \n",
    "        artists_list = [] \n",
    "        for i in range(len(other_features['artists'])):\n",
    "            artists_list += [other_features['artists'][i]['name']]\n",
    "       \n",
    "        # Verify if the artist is in the artist catalogue.\n",
    "        \n",
    "        if str(artists_list)[1:-1] not in df['artists']:\n",
    "        \n",
    "            # if the artist or list of artists is not in the catalogue\n",
    "            # asign it a number \n",
    "            \n",
    "            code_artist = sorted(kaggle['coded_artists'].unique())[-1] +1\n",
    "        \n",
    "        \n",
    "        else:            \n",
    "        \n",
    "            # Find the code for the artist \n",
    "        \n",
    "            code_artist = df[df['artists'] == str_artists_list]['coded_artists'].values[0]\n",
    "        \n",
    "        song_features = sp.audio_features(song_id)[0]\n",
    "\n",
    "        # Find the code for the artist            \n",
    "\n",
    "\n",
    "        features_vector = [code_artist] + [other_features['popularity'],song_features['danceability'], song_features['energy'], song_features['key'], song_features['loudness'], song_features['mode'],song_features['speechiness'], song_features['acousticness'], song_features['instrumentalness'], song_features['liveness'],song_features['valence'], song_features['tempo'], song_features['duration_ms'], int(other_features['album']['release_date'][:4])]\n",
    "\n",
    "        scaled_features = stdscaler.transform(np.array(features_vector).reshape(1,-1))\n",
    "\n",
    "        # Find the number of cluster where it could best fit.\n",
    "\n",
    "        # In what cluster could it be located?\n",
    "        cluster_num = cluster_model.predict(np.array(new_song_tf_0).reshape(1,-1))[0]\n",
    "\n",
    "        # In what subcluster could it be placed?\n",
    "\n",
    "        new_scaler = new_scalers_list[cluster_num]\n",
    "\n",
    "        subcluster_model = subcluster_models_list[cluster_num]\n",
    "\n",
    "        re_scaled_features = new_scaler.transform(np.array(features_vector).reshape(1,-1))\n",
    "\n",
    "        subcluster_num = subcluster_model.predict(np.array(new_song_tf_0).reshape(1,-1))[0]\n",
    "\n",
    "        comparing_data = df[(df['cluster'] == cluster_num) & (df['subcluster'] == subcluster_num)][['coded_artists','popularity','danceability', 'energy', 'song_key', 'loudness', 'song_mode','speechiness', 'acousticness', 'instrumentalness', 'liveness','valence', 'tempo', 'duration_ms', 'year']]\n",
    "        comparing_data = new_scaler.transform(comparing_data)\n",
    "        comparing_data = comparing_data / np.linalg.norm(comparing_data,axis=1, keepdims=True)\n",
    "\n",
    "        norm_features = re_scaled_features / np.linalg.norm(re_scaled_features,axis=1, keepdims=True)\n",
    "\n",
    "        new_similarities = comparing_data.dot(norm_features.T)\n",
    "\n",
    "        new_similarities = [round(arr[0],4) for arr in new_similarities]\n",
    "\n",
    "        similar_songs = {}\n",
    "\n",
    "        for i, sng_id in enumerate(df[(df['cluster'] == cluster_num) & (df['subcluster'] == subcluster_num)]['song_id']):\n",
    "\n",
    "            if sng_id != song_id:\n",
    "\n",
    "                if new_similarities[i] >= 0.75:\n",
    "\n",
    "                    if new_similarities[i] not in similar_songs:\n",
    "\n",
    "                        similar_songs[new_similarities[i]] = []\n",
    "                    similar_songs[new_similarities[i]].append(sng_id)\n",
    "\n",
    "        return similar_songs\n",
    "\n"
   ]
  },
  {
   "cell_type": "code",
   "execution_count": null,
   "metadata": {},
   "outputs": [],
   "source": [
    "similar_songs_dict = finding_similar_song_for_new(kaggle,'2mRhdpZwMex3molBxZpxGN',stdscaler,model,[stdscaler_0,stdscaler_1,stdscaler_2,stdscaler_3],[model_0,model_1,model_2,model_3])\n",
    "similar_songs_dict.keys()"
   ]
  },
  {
   "cell_type": "code",
   "execution_count": null,
   "metadata": {},
   "outputs": [],
   "source": [
    "def top_10_similar_songs(similar_dictionary):\n",
    "    \n",
    "    recommended_songs = []\n",
    "\n",
    "    for list_of_similar in sorted(similar_dictionary.keys(), reverse=True)[:11]:\n",
    "\n",
    "        if list_of_similar:\n",
    "\n",
    "            recommended_songs += similar_dictionary[list_of_similar]\n",
    "\n",
    "    return recommended_songs"
   ]
  },
  {
   "cell_type": "code",
   "execution_count": null,
   "metadata": {},
   "outputs": [],
   "source": [
    "top_10_similar_songs(similar_songs_dict)"
   ]
  },
  {
   "cell_type": "code",
   "execution_count": null,
   "metadata": {},
   "outputs": [],
   "source": []
  },
  {
   "cell_type": "code",
   "execution_count": null,
   "metadata": {},
   "outputs": [],
   "source": []
  },
  {
   "cell_type": "markdown",
   "metadata": {
    "id": "jvV7Vuln1qeG"
   },
   "source": []
  },
  {
   "cell_type": "code",
   "execution_count": null,
   "metadata": {
    "id": "w7bua9yX1qeJ"
   },
   "outputs": [],
   "source": []
  },
  {
   "cell_type": "code",
   "execution_count": null,
   "metadata": {
    "id": "O2pKP4Jy1qeN"
   },
   "outputs": [],
   "source": []
  },
  {
   "cell_type": "code",
   "execution_count": null,
   "metadata": {
    "id": "-H5rt4DR1qeQ"
   },
   "outputs": [],
   "source": []
  },
  {
   "cell_type": "code",
   "execution_count": null,
   "metadata": {
    "id": "5TkQ8M3L1qeS"
   },
   "outputs": [],
   "source": []
  },
  {
   "cell_type": "code",
   "execution_count": null,
   "metadata": {
    "id": "FtfAqqnR1qeV"
   },
   "outputs": [],
   "source": []
  },
  {
   "cell_type": "code",
   "execution_count": null,
   "metadata": {
    "id": "LJrxHxrR1qeX"
   },
   "outputs": [],
   "source": []
  },
  {
   "cell_type": "markdown",
   "metadata": {
    "id": "zROpIV5D1qeb"
   },
   "source": [
    "# Area 51"
   ]
  },
  {
   "cell_type": "code",
   "execution_count": null,
   "metadata": {},
   "outputs": [],
   "source": [
    "kaggle[(kaggle['song_id'] == '3mQ6SLdxxaL52Yte7KF2Ks') | (kaggle['song_id'] == '35KmOEIUqAGn02t7n4qaIr')]"
   ]
  },
  {
   "cell_type": "code",
   "execution_count": null,
   "metadata": {},
   "outputs": [],
   "source": [
    "kaggle['artists'][169843]"
   ]
  },
  {
   "cell_type": "code",
   "execution_count": null,
   "metadata": {},
   "outputs": [],
   "source": [
    "list(kaggle['artists'][169843].split(','))"
   ]
  },
  {
   "cell_type": "code",
   "execution_count": null,
   "metadata": {
    "id": "gwHXfD5M1qeb"
   },
   "outputs": [],
   "source": [
    "# clustering_dict[0]['subclusters'][0]['main']"
   ]
  },
  {
   "cell_type": "code",
   "execution_count": null,
   "metadata": {
    "id": "9kn-i8aY1qee"
   },
   "outputs": [],
   "source": [
    "# def build_sim_dict(clust_num,subclust_num,row):\n",
    "    \n",
    "#     '''\n",
    "#     Find the similarity measure based on the angle between the vectors, \n",
    "#     and build a dictionary with the cosine of the angle as key.\n",
    "#     List of songs with the same rounded cosine.\n",
    "#     '''\n",
    "    \n",
    "#     partial_df = clustering_dict[clust_num]['subclusters'][subclust_num]['main'][['popularity','danceability', 'energy', 'song_key', 'loudness', 'song_mode','speechiness', 'acousticness', 'instrumentalness', 'liveness','valence', 'tempo', 'duration_ms', 'year']]\n",
    "#     partial_df.head()\n",
    "\n",
    "#     # Standarizing the data\n",
    "#     stdscaler = StandardScaler()\n",
    "#     partial_df_std = stdscaler.fit_transform(partial_df)\n",
    "\n",
    "#     partial_df_std = partial_df_std / np.linalg.norm(partial_df_std,axis=1, keepdims=True)  \n",
    "    \n",
    "#     similarity_dict = {}\n",
    "#     for i, _ in enumerate(partial_df.index):\n",
    "\n",
    "#         similarity = round(partial_df_std.dot(np.transpose(partial_df_std))[row][i],4)\n",
    "\n",
    "\n",
    "#         if similarity not in similarity_dict:\n",
    "\n",
    "#             similarity_dict[similarity] = []\n",
    "            \n",
    "#         similarity_dict[similarity].append(clustering_dict[clust_num]['subclusters'][subclust_num]['main'].iloc[i,0])\n",
    "\n",
    "#     return similarity_dict\n",
    "\n",
    "# build_sim_dict(0,0,0)"
   ]
  },
  {
   "cell_type": "code",
   "execution_count": null,
   "metadata": {
    "id": "7EZyCL-S1qeh"
   },
   "outputs": [],
   "source": [
    "# lst_of_sim_dcts = [build_sim_dict(0,0,row) for row in range(len(clustering_dict[0]['subclusters'][0]['main']))]"
   ]
  },
  {
   "cell_type": "code",
   "execution_count": null,
   "metadata": {
    "id": "XEnqUZ4W1qej"
   },
   "outputs": [],
   "source": [
    "# # Build a dict with song_id as key\n",
    "# song_dict = {}\n",
    "\n",
    "# for i in range(len(clustering_dict.keys())-2):\n",
    "\n",
    "#     for j in range(len(clustering_dict[i]['subclusters'].keys())-2):\n",
    "\n",
    "#         lst_of_sim_dcts = [build_sim_dict(i,j,row) for row in range(len(clustering_dict[i]['subclusters'][j]['main']))]\n",
    "\n",
    "#         for k,id in enumerate(clustering_dict[i]['subclusters'][j]['main']['song_id']):\n",
    "\n",
    "#             song_dict[id] = lst_of_sim_dcts[k]\n",
    "            \n",
    "#         del lst_of_sim_dcts\n",
    "\n"
   ]
  },
  {
   "cell_type": "code",
   "execution_count": null,
   "metadata": {},
   "outputs": [],
   "source": [
    "kaggle[kaggle['artists'] == \"['Maluma']\"]"
   ]
  },
  {
   "cell_type": "code",
   "execution_count": null,
   "metadata": {},
   "outputs": [],
   "source": [
    "# Hawai - Maluma & The Weekend \n",
    "kaggle[kaggle['song_id'] == '0GzuHFG4Ql6DoyxFRnIk3F']"
   ]
  },
  {
   "cell_type": "code",
   "execution_count": null,
   "metadata": {},
   "outputs": [],
   "source": [
    "# Hawai - Maluma (Only)\n",
    "kaggle[kaggle['song_id'] == '1yoMvmasuxZfqHEipJhRbp']"
   ]
  },
  {
   "cell_type": "code",
   "execution_count": null,
   "metadata": {},
   "outputs": [],
   "source": [
    "# 11 PM - Maluma \n",
    "kaggle[kaggle['song_id'] == '7KbF6AdprOXEEHlsq11Z6d']"
   ]
  },
  {
   "cell_type": "code",
   "execution_count": null,
   "metadata": {},
   "outputs": [],
   "source": [
    "playlist_id = '5u29iIDT3bBUwusA9Zfq4w'"
   ]
  },
  {
   "cell_type": "code",
   "execution_count": null,
   "metadata": {},
   "outputs": [],
   "source": [
    "pl_data = sp.playlist_tracks(playlist_id=playlist_id)"
   ]
  },
  {
   "cell_type": "code",
   "execution_count": null,
   "metadata": {},
   "outputs": [],
   "source": [
    "pl_data['items'][99]['track'].keys()"
   ]
  },
  {
   "cell_type": "code",
   "execution_count": null,
   "metadata": {},
   "outputs": [],
   "source": [
    "pl_data['items'][99]['track']['album']['release_date'][:4]"
   ]
  },
  {
   "cell_type": "code",
   "execution_count": null,
   "metadata": {},
   "outputs": [],
   "source": [
    "track_data = sp.audio_features('10k3RAOXYP96FY4oyp1aQ4')"
   ]
  },
  {
   "cell_type": "code",
   "execution_count": null,
   "metadata": {},
   "outputs": [],
   "source": [
    "track_data[0]"
   ]
  },
  {
   "cell_type": "code",
   "execution_count": null,
   "metadata": {},
   "outputs": [],
   "source": [
    "sp.track('10k3RAOXYP96FY4oyp1aQ4')['album']['release_date'][:4]"
   ]
  },
  {
   "cell_type": "code",
   "execution_count": null,
   "metadata": {},
   "outputs": [],
   "source": [
    "['4pRCW4Rt4rl6tPm1CpIadt', '1rbsI0Xp6dHaRXCeI42czz', '32riLnBjERrOOzOt8XKPim', '7DWxOrMQIz1CCOKByJxFLA', '1J1zEzxWRFpTjjmJr2NdwD', '19uuiVuN6YvFvetpjzfUYg', '7q7auGTn2flEH9urOSz8W3', '60o4stCyzWKF6ziLD5OGt6', '6wB2Ix5KYhZU9HIMSZVAdr']"
   ]
  },
  {
   "cell_type": "code",
   "execution_count": null,
   "metadata": {},
   "outputs": [],
   "source": [
    "connection = psycopg2.connect(user=os.environ.get('db_user'),password=os.environ.get('db_password'),host=os.environ.get('db_host'),port=os.environ.get('db_port'),database=os.environ.get('db_name'))"
   ]
  },
  {
   "cell_type": "code",
   "execution_count": null,
   "metadata": {},
   "outputs": [],
   "source": [
    "cursor.execute('''SELECT followed_by FROM playlists WHERE playlist_id = %s ''',(playlist_id,))"
   ]
  },
  {
   "cell_type": "code",
   "execution_count": null,
   "metadata": {},
   "outputs": [],
   "source": [
    "cursor.execute('''SELECT coded_artists FROM songs WHERE artists = %s;''',(str(song_dict['artists']),))"
   ]
  },
  {
   "cell_type": "code",
   "execution_count": null,
   "metadata": {},
   "outputs": [],
   "source": [
    "str(kaggle[kaggle['artists'] == 'Charlie Puth, Selena Gomez']['artists'].item())"
   ]
  },
  {
   "cell_type": "code",
   "execution_count": null,
   "metadata": {},
   "outputs": [],
   "source": []
  },
  {
   "cell_type": "code",
   "execution_count": null,
   "metadata": {},
   "outputs": [],
   "source": [
    "playlist_id = '5u29iIDT3bBUwusA9Zfq4w'"
   ]
  },
  {
   "cell_type": "code",
   "execution_count": null,
   "metadata": {},
   "outputs": [],
   "source": [
    "results = sp.playlist_tracks(playlist_id=playlist_id)"
   ]
  },
  {
   "cell_type": "code",
   "execution_count": null,
   "metadata": {},
   "outputs": [],
   "source": [
    "import ast"
   ]
  },
  {
   "cell_type": "code",
   "execution_count": null,
   "metadata": {},
   "outputs": [],
   "source": [
    "cursor.execute(''' SELECT coded_artists FROM songs WHERE artists = %s; ''',(str(song_dict['artists'])[1:-1],))"
   ]
  }
 ],
 "metadata": {
  "colab": {
   "name": "wrapping_db.ipynb",
   "provenance": []
  },
  "kernelspec": {
   "display_name": "Python 3",
   "language": "python",
   "name": "python3"
  },
  "language_info": {
   "codemirror_mode": {
    "name": "ipython",
    "version": 3
   },
   "file_extension": ".py",
   "mimetype": "text/x-python",
   "name": "python",
   "nbconvert_exporter": "python",
   "pygments_lexer": "ipython3",
   "version": "3.7.6"
  }
 },
 "nbformat": 4,
 "nbformat_minor": 4
}
